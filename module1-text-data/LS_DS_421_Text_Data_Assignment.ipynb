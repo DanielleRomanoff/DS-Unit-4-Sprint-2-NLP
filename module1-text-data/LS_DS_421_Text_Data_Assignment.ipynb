{
 "cells": [
  {
   "cell_type": "markdown",
   "metadata": {
    "colab_type": "text",
    "id": "qGUBe2FXilzx"
   },
   "source": [
    "# 1) String Basics"
   ]
  },
  {
   "cell_type": "markdown",
   "metadata": {
    "colab_type": "text",
    "id": "UwLjaXPCqACb"
   },
   "source": [
    "## 1.1 Count Characters\n",
    "\n",
    "Write a function to count the character frequency of any string, and return the counts as a dictionary.\n",
    "\n",
    "\"google.com\" -> {'o': 3, 'g': 2, '.': 1, 'e': 1, 'l': 1, 'm': 1, 'c': 1}"
   ]
  },
  {
   "cell_type": "code",
   "execution_count": 31,
   "metadata": {
    "colab": {},
    "colab_type": "code",
    "id": "9Kk5bS5ujbwH"
   },
   "outputs": [],
   "source": [
    "import pandas as pd\n",
    "import re\n",
    "from bs4 import BeautifulSoup\n",
    "import requests\n",
    "from collections import defaultdict\n",
    "import string\n",
    "from collections import Counter"
   ]
  },
  {
   "cell_type": "code",
   "execution_count": 2,
   "metadata": {},
   "outputs": [
    {
     "data": {
      "text/plain": [
       "defaultdict(int, {'g': 2, 'o': 3, 'l': 1, 'e': 1, '.': 1, 'c': 1, 'm': 1})"
      ]
     },
     "execution_count": 2,
     "metadata": {},
     "output_type": "execute_result"
    }
   ],
   "source": [
    "def count_char(text):\n",
    "    chars = defaultdict(int)\n",
    "    for char in text:\n",
    "        chars[char] += 1\n",
    "    return chars\n",
    "        \n",
    "count_char('google.com')"
   ]
  },
  {
   "cell_type": "markdown",
   "metadata": {
    "colab_type": "text",
    "id": "mq2yhAciqH6w"
   },
   "source": [
    "## 1.2 Replace Characters\n",
    "\n",
    "Write a function that takes in two parameters: 1) a string of text and 2) individual character. This function should return a new string of text where any of the specified character has been replaced with dollar signs: `$` "
   ]
  },
  {
   "cell_type": "code",
   "execution_count": 3,
   "metadata": {},
   "outputs": [
    {
     "data": {
      "text/plain": [
       "'g$$gle.c$m'"
      ]
     },
     "execution_count": 3,
     "metadata": {},
     "output_type": "execute_result"
    }
   ],
   "source": [
    "def replace_char(text, single_char):\n",
    "    text = text.replace(single_char, '$')\n",
    "    return text\n",
    "\n",
    "replace_char('google.com', 'o')"
   ]
  },
  {
   "cell_type": "markdown",
   "metadata": {
    "colab_type": "text",
    "id": "v8iy3BKuq--f"
   },
   "source": [
    "## 1.3 Slice Suffixes\n",
    "\n",
    "Write a function that removes common suffixes from the ends of words. As a minimum this function should remove the suffixes: \"ed\",  \"ing\", \"es\", \"tion\", \"ly\"\n",
    "\n",
    "\"The daring fox leaped through the air gracefully, his eyes fixated on the capitulation of his prey.\" -> \n",
    "\n",
    "\"The dar fox leap through the air graceful, his ey fixat on the capitula of his prey.\""
   ]
  },
  {
   "cell_type": "code",
   "execution_count": 4,
   "metadata": {},
   "outputs": [
    {
     "data": {
      "text/plain": [
       "'The dar fox leap through the air graceful his ey fixat on the capitula of his prey'"
      ]
     },
     "execution_count": 4,
     "metadata": {},
     "output_type": "execute_result"
    }
   ],
   "source": [
    "suffix = ['ed','ing','es','tion','ly','ate','en','fy','ize','sion','er','ment','ant','ent','ence','ance','ism','ity','ness']\n",
    "\n",
    "def remove_suffix(text):\n",
    "    regex = r'\\w+'\n",
    "    new_list = re.findall(regex,text)\n",
    "    for i, word in enumerate(new_list):\n",
    "        for end in suffix:\n",
    "            search_result = re.findall(end, word)\n",
    "            if search_result: \n",
    "                word = word[:-len(end)]\n",
    "                new_list[i] = word\n",
    "    newest_list = ' '.join(new_list)\n",
    "    return newest_list\n",
    "            \n",
    "remove_suffix(\"The daring fox leaped through the air gracefully, his eyes fixated on the capitulation of his prey.\")     "
   ]
  },
  {
   "cell_type": "markdown",
   "metadata": {
    "colab_type": "text",
    "id": "hAAJTIN_trH3"
   },
   "source": [
    "## 1.4 Remove Stopwords\n",
    "\n",
    "Write a function that removes common \"stopwords\" from text. "
   ]
  },
  {
   "cell_type": "code",
   "execution_count": 12,
   "metadata": {
    "colab": {},
    "colab_type": "code",
    "id": "QbHQkte9t_gK"
   },
   "outputs": [
    {
     "data": {
      "text/plain": [
       "'daring fox leaped air gracefully eyes fixated capitulation prey'"
      ]
     },
     "execution_count": 12,
     "metadata": {},
     "output_type": "execute_result"
    }
   ],
   "source": [
    "stopwords = ['i','me','my','myself','we''our','ours','ourselves',\n",
    "'you','your','yours','yourself','yourselves','he','him','his','himself',\n",
    "'she','her','hers','herself','it','its','itself','they','them','their',\n",
    "'theirs','themselves','what','which','who','whom','this','that','these',\n",
    "'those','am','is','are','was','were','be','been','being','have','has',\n",
    "'had','having','do','does','did','doing','a','an','the','and','but',\n",
    "'if','or','because','as','until','while','of','at','by','for','with',\n",
    "'about','against','between','into','through','during','before','after',\n",
    "'above','below','to','from','up','down','in','out','on','off','over',\n",
    "'under','again','further','then','once','here','there','when','where',\n",
    "'why','how','all','any','both','each','few','more','most','other','some',\n",
    "'such','no','nor','not','only','own','same','so','than','too','very',\n",
    "'s','t','can','will','just','don','should','now']\n",
    "\n",
    "# def remove_stop_words(text):\n",
    "#     text.lower()\n",
    "#     regex = r'\\w+'\n",
    "#     new_text = re.findall(regex,text)\n",
    "#     print(new_text)\n",
    "#     for i, stop in enumerate(new_text):\n",
    "#         for word in stopwords:\n",
    "#             search_result = re.findall(word, stop)\n",
    "#             print(search_result)\n",
    "#             if search_result: \n",
    "#                 del new_text[i]\n",
    "#             final = ' '.join(new_text)\n",
    "#         return final\n",
    "\n",
    "def remove_stop_words(text, stopwords=stopwords):\n",
    "    text = text.lower()\n",
    "    regex = r'\\w+'\n",
    "    new_text = re.findall(regex, text)\n",
    "    new_list = [word for word in new_text if word not in stopwords]\n",
    "    final = ' '.join(new_list)\n",
    "    return final\n",
    "            \n",
    "remove_stop_words(\"The daring fox leaped through the air gracefully, his eyes fixated on the capitulation of his prey.\")    "
   ]
  },
  {
   "cell_type": "markdown",
   "metadata": {
    "colab_type": "text",
    "id": "EKEER1R3vyDM"
   },
   "source": [
    "## 1.5 Vectorize Words\n",
    "\n",
    "Below is a list of three strings. Each string is a job listing with the job title of \"data scientist\" from indeed.com. Write a function that does two things:\n",
    "\n",
    "1) Removes stopwords from each listing (uses above function)\n",
    "\n",
    "2) Creates a dataframe where the header of each column is a particular word and each cell of the dataframe should be a 1 or 0 denoting whether that word is present or not in the job listing a body of text. The final dataframe should only have 3 rows, one for each of the three job listings.\n",
    "\n",
    "Your final dataframe should not include any of the stopwords."
   ]
  },
  {
   "cell_type": "code",
   "execution_count": 27,
   "metadata": {
    "colab": {},
    "colab_type": "code",
    "id": "BmEykH6byT5n"
   },
   "outputs": [
    {
     "name": "stdout",
     "output_type": "stream",
     "text": [
      "$$$$$$$$$$$$$$$$$$$$$$$$$$$$$$$$$$$$$$$$$$$$$$$$$$$$$$$$$$$$$$$$$$$$\n",
      "  $$$$$$$$$$$$$$$$$$$$$$$$$$$$$$$$$$$$$$$$$$$$$$$$$$$$$$$$$$$$$$$$$$$$$$$$$$$\n",
      "  $$$$$$$$$$$$$$$$$$$$$$$$$$$$$$$$$$$$$$$$$$$$$$$$$$$$$$$$$$$$$$$$$$$$$$$$$$$\n",
      "Part-time, Contract, Internship\n",
      "Sr. Machine Learning/Data Scientist\n",
      "\n",
      "data245, Bannockburn, IL seeks data scientists.\n",
      "\n",
      "We are open to all levels of experience (down to an intern) as we are building a team around new initiatives.\n",
      "\n",
      "You will be developing state of the art algorithms to power various aspects of highly complex business models\n",
      "You can articulate and understand a business problem, identify challenges, formulate the machine learning problem or NLP problems and provide/prototype solutions\n",
      "You will provide technical leadership, identify and understand key business challenges and opportunities, and develop end-to-end software solutions using machine learning/NLP and optimization methods.\n",
      "\n",
      "You will collaborate extensively with internal and external partners, program management, and, at a senior level, the engineering team to ensure that solution meet business needs, permit valid inferences and have functional feasibility\n",
      "You will collect and manipulate large volumes of data; build new and improved techniques and/or solutions for data collection, management, and usage\n",
      "You will communicate results in a comprehensible manner to all levels of the company (field teams up to Snr. Management) - this will require client facing in the future - but not initially\n",
      "You will brainstorm with other team members and leadership - who has 30 plus years experience in the industry that requires the solution.\n",
      "Requirements:\n",
      "\n",
      "PHD or MS in Statistics, Machine Learning, or Computer Science (or technical degree with commensurate industry experience)\n",
      "Ideally the Senior position will possess at least 3 years of relevant work - or academic academic experience, as a Data Scientist / Machine Learning professional.\n",
      "Expertise in NLP a bonus\n",
      "Strong algorithmic design skills\n",
      "Other positions require less tenure, but the same relevant ML understanding.\n",
      "Previous hands on experience, or thesis dedicated to the same\n",
      "Deep understanding of classic machine learning and deep learning theory, and extensive hands-on experience putting it into practice\n",
      "Excellent understanding of machine learning algorithms, processes, tools and platforms including CNN, RNN, NLP, tensorflow, keras, etc.\n",
      "Python proficiency is must\n",
      "Applied experience with machine learning on large datasets\\sparse data with structured and unstructured data.\n",
      "Experience with deep learning, and their optimizations for efficient implementation.\n",
      "Great communication skills, ability to explain predictive analytics to non-technical audience (not client facing yet, and no sales)\n",
      "Experienced in predictive modelling.\n",
      "Execute analytical experiments methodically while outputting reproducible research.\n",
      "Excited to change an industry struggling to control costs.\n",
      "Good to have – Familiar with one or more programming languages e.g. C++ / Java / Android / iOS\".\n",
      "Job Types: Full-time, Part-time, Internship, Contract\n",
      "\n",
      "Salary: $75,000.00 to $125,000.00 /year\n",
      "\n",
      "Education:\n",
      "\n",
      "Master's (Preferred)\n",
      "Work authorization:\n",
      "\n",
      "United States (Preferred)\n",
      "Hours per week:\n",
      "\n",
      "30-39\n",
      "Overtime often available:\n",
      "\n",
      "No\n",
      "Contract Length:\n",
      "\n",
      "More than 1 year\n",
      "Typical end time:\n",
      "\n",
      "5PM\n",
      "$$$$$$$$$$$$$$$$$$$$$$$$$$$$$$$$$$$$$$$$$$$$$$$$$$$$$$$$$$$$$$$$$$$$\n",
      "  $$$$$$$$$$$$$$$$$$$$$$$$$$$$$$$$$$$$$$$$$$$$$$$$$$$$$$$$$$$$$$$$$$$$$$$$$$$\n",
      "  $$$$$$$$$$$$$$$$$$$$$$$$$$$$$$$$$$$$$$$$$$$$$$$$$$$$$$$$$$$$$$$$$$$$$$$$$$$\n",
      "$96,970 - $148,967 a year\n",
      "The professionals at the National Security Agency (NSA) have one common goal: to protect our nation. The mission requires a strong offense and a steadfast defense. The offense collects, processes, and disseminates intelligence information derived from foreign signals for intelligence and counterintelligence purposes. The defense prevents adversaries from gaining access to sensitive classified national security information. NSA is the nation's leader in providing foreign signals intelligence while also protecting U.S. government information systems, forging the frontier of communications, and data analysis. We serve the American people by applying technical skills to meaningful work, keeping our friends and families safe for generations to come. You will make a lasting impact serving your country as a Data Scientist at the National Security Agency, using your curiosity to analyze large data sets to inform decision-making against foreign threats. We are looking for critical thinkers, problem solvers, and motivated individuals who are enthusiastic about data and believe that answers to hard questions lie in the yet-to-be-told story of diverse, complicated data sets. You will employ your mathematical science, computer science, and quantitative analysis skills to ensure solutions to complex data problems and take full advantage of the NSA's software and hardware capabilities in all areas of our enterprise, including analytic capabilities, research, and foreign intelligence operations. Data Scientists are hired into positions directly supporting a technical mission office or the Data Scientist Development Program (DSDP). The NSA/CSS Data Scientist Development Program is a three-year opportunity to build your data science talent, experience the breadth of data science at NSA through six- to nine-month assignments in a variety of diverse organizations, and collaborate with NSA's experts in the field of data science. You will have opportunities to attend technical conferences with experts from industry and academia. You will routinely discuss and share NSA's challenges and successes at weekly technical roundtables. We foster an environment where you will develop your data science skills, allowing you to quickly contribute to NSA's mission. As a member of a technical mission office or the DSDP, Data Scientists tackle challenging real-world problems leveraging big data, high-performance computing, machine learning, and a breadth of other methodologies. As a Data Scientist at NSA, responsibilities may include: - Collecting and combining data from multiple sources - Uncovering and exploring anomalous data (including metadata) - Applying the scientific process to data evaluation, performing statistical inference, and data mining - Developing analytic plans, engineer supporting algorithms, and design and implement solutions which execute analytic plans. - Designing and developing tools and techniques for analysis - Analyzing data using mathematical/statistical methods - Evaluating, documenting, and communicating research processes, analyses, and results to customers, peers, and leadership - Creating interpretable visualizations\n",
      "\n",
      "Skills\n",
      "\n",
      "The ideal candidate is someone with a desire for continual learning and strong problem-solving, analytic and interpersonal skills. You might be a great fit for our team if any of the following describe you: - Completed a degree program in the fields of mathematics, statistics, computer science, computational sciences, or a passion for rigorous analysis of data - Tenacity, integrity, persistence, and willingness to learn - Ability to solve complex problems - Use critical thinking and reasoning to make analytic determinations - Works effectively in a collaborative environment - Strong communications skills to both technical and non-technical audiences - The desire to serve over 300 million fellow Americans and make a difference in world events\n",
      "\n",
      "Pay, Benefits, & Work Schedule\n",
      "\n",
      "On the job training, internal NSA courses, and external training will be made available based on the need and experience of the selectee. Monday - Friday, with basic 8 hr/day requirements between 0800 to 1800 (flexible)\n",
      "\n",
      "Position Summary\n",
      "\n",
      "NSA is in search of Computer Science professionals to solve complex problems, test innovative approaches and research new solutions to storing, manipulating, and presenting information. We are looking for you to apply your computer science expertise to projects that seek to create new standards for the transformation of information. If you want to develop technologies and tools and be a part of cutting edge innovations ' join our team of experts! Help protect national security interests as part of the world's most advanced team of computer science professionals!\n",
      "\n",
      "Mandatory Qualification Reqs\n",
      "\n",
      "Candidates for the NSA's Data Scientist roles are asked to complete a data science examination evaluating their knowledge of statistics, mathematics, and computer science topics that pertain to data science work. Passing this examination is a requirement in order to be considered for selection into a data scientist position. Salary Range: $69,545 - $86,659 (Entry Level/Developmental) *The qualifications listed are the minimum acceptable to be considered for the position. Salary offers are based on candidates' education level and years of experience relevant to the position and also take into account information provided by the hiring manager/organization regarding the work level for the position. Entry is with a Bachelor's degree and no experience. An Associate's degree plus 2 years of relevant experience may be considered for individuals with in-depth experience that is clearly related to the position. Degree must be in Mathematics, Applied Mathematics, Statistics, Applied Statistics, Machine Learning, Data Science, Operations Research, or Computer Science. A degree in a related field (e.g., Computer Information Systems, Engineering), a degree in the physical/hard sciences (e.g. physics, chemistry, biology, astronomy), or other science disciplines (i.e., behavioral, social, and life) may be considered if it includes a concentration of coursework (typically 5 or more courses) in advanced mathematics (typically 200 level or higher; such as calculus, differential equations, discrete mathematics) and/or computer science (e.g., algorithms, programming, data structures, data mining, artificial intelligence). College-level Algebra or other math courses intended to meet a basic college level requirement, or upper level math courses designated as elementary or basic do not count. Note: A broader range of degrees will be considered if accompanied by a Certificate in Data Science from an accredited college/university.\n",
      "\n",
      "Relevant experience must be in designing/implementing machine learning, data mining, advanced analytical algorithms, programming, data science, advanced statistical analysis, artificial intelligence, and/or software engineering. Experience in more than one area is strongly preferred. Salary Range: $80,445 - $107,140 (Full Performance) *The qualifications listed are the minimum acceptable to be considered for the position. Salary offers are based on candidates' education level and years of experience relevant to the position and also take into account information provided by the hiring manager/organization regarding the work level for the position. Entry is with a Bachelor's degree plus 3 years of relevant experience or a Master's degree plus 1 year of relevant experience or a Doctoral degree and no experience. An Associate's degree plus 5 years of relevant experience may be considered for individuals with in-depth experience that is clearly related to the position.\n",
      "Degree must be in Mathematics, Applied Mathematics, Statistics, Applied Statistics, Machine Learning, Data Science, Operations Research, or Computer Science. A degree in a related field (e.g., Computer Information Systems, Engineering), a degree in the physical/hard sciences (e.g. physics, chemistry, biology, astronomy), or other science disciplines (i.e., behavioral, social, and life) may be considered if it includes a concentration of coursework (typically 5 or more courses) in advanced mathematics (typically 200 level or higher; such as calculus, differential equations, discrete mathematics) and/or computer science (e.g., algorithms, programming, data structures, data mining, artificial intelligence). College-level Algebra or other math courses intended to meet a basic college level requirement, or upper level math courses designated as elementary or basic do not count. Note: A broader range of degrees will be considered if accompanied by a Certificate in Data Science from an accredited college/university. Relevant experience must be in two or more of the following: designing/implementing machine learning, data mining, advanced analytical algorithms, programming, data science, advanced statistical analysis, artificial intelligence, or software engineering. Salary Range: $96,970 - $148,967 (Senior) *The qualifications listed are the minimum acceptable to be considered for the position. Salary offers are based on candidates' education level and years of experience relevant to the position and also take into account information provided by the hiring manager/organization regarding the work level for the position. Entry is with a Bachelor's degree plus 6 years of relevant experience or a Master's degree plus 4 years of relevant experience or a Doctoral degree plus 2 years of relevant experience. An Associate's degree plus 8 years of relevant experience may be considered for individuals with in-depth experience that is clearly related to the position. Degree must be in Mathematics, Applied Mathematics, Statistics, Applied Statistics, Machine Learning, Data Science, Operations Research, or Computer Science. A degree in a related field (e.g., Computer Information Systems, Engineering), a degree in the physical/hard sciences (e.g., physics, chemistry, biology, astronomy), or other science disciplines (i.e., behavioral, social, life) may be considered if it includes a concentration of coursework (typically 5 or more courses) in advanced mathematics (typically 200 level or higher; such as calculus, differential equations, discrete mathematics) and/or computer science (e.g., algorithms, programming, data structures, data mining, artificial intelligence). College-level Algebra or other math courses intended to meet a basic college level requirement, or upper level math courses designated as elementary or basic do not count. Note: A broader range of degrees will be considered if accompanied by a Certificate in Data Science from an accredited college/university. Relevant experience must be in two or more of the following: designing/implementing machine learning, data mining, advanced analytical algorithms, programming, data science, advanced statistical analysis, artificial intelligence, or software engineering. Salary Range: $134,789- $164,200 (Expert) *The qualifications listed are the minimum acceptable to be considered for the position. Salary offers are based on candidates' education level and years of experience relevant to the position and also take into account information provided by the hiring manager/organization regarding the work level for the position. Entry is with a Bachelor's degree plus 9 years of relevant experience or a Master's degree plus 7 years of relevant experience or a Doctoral degree plus 5 years of relevant experience. An Associate's degree plus 11 years of relevant experience may be considered for individuals with in-depth experience that is clearly related to the position. Degree must be in Mathematics, Applied Mathematics, Statistics, Applied Statistics, Machine Learning, Data Science, Operations Research, or Computer Science. A degree in a related field (e.g., Computer Information Systems, Engineering), a degree in the physical/hard sciences (e.g., physics, chemistry, biology, astronomy), or other science disciplines (i.e., behavioral, social, life) may be considered if it includes a concentration of coursework (typically 5 or more courses) in advanced mathematics (typically 200 level or higher; such as calculus, differential equations, discrete mathematics) and/or computer science (e.g., algorithms, programming, data structures, data mining, artificial intelligence). College-level Algebra or other math courses intended to meet a basic college level requirement, or upper level math courses designated as elementary or basic do not count. Note: A broader range of degrees will be considered if accompanied by a Certificate in Data Science from an accredited college/university. Relevant experience must be in two or more of the following: designing/implementing machine learning, data mining, advanced analytical algorithms, programming, data science, advanced statistical analysis, artificial intelligence, or software engineering.\n",
      "\n",
      "How To Apply - External\n",
      "\n",
      "To apply for this position, please click the 'Apply' button located at the top right of this posting. After completing the application for the first time, or reviewing previously entered information, and clicking the 'Submit' button, you will receive a confirmation email. Please ensure your spam filters are configured to accept emails from noreply@intelligencecareers.gov. ***PLEASE NOTE: U.S. Citizenship is required for all applicants. Reasonable accommodations provided to applicants with disabilities during the application and hiring process where appropriate. NSA is an equal opportunity employer and abides by applicable employment laws and regulations. All applicants and employees are subject to random drug testing in accordance with Executive Order 12564. Employment is contingent upon successful completion of a security background investigation and polygraph. This position is a Defense Civilian Intelligence Personnel System (DCIPS) position in the Excepted Service under 10 U.S.C. 1601. DoD Components with DCIPS positions apply Veterans' Preference to eligible candidates as defined by Section 2108 of Title 5 USC, in accordance with the procedures provided in DoD Instruction 1400.25, Volume 2005, DCIPS Employment and Placement. If you are a veteran claiming veterans' preference, as defined by Section 2108 of Title 5 U.S.C., you may be asked to submit documents verifying your eligibility. Please note that you may be asked a series of questions depending on the position you apply for. Your responses will be used as part of the screening process of your application and will assist in determining your eligibility for the position. Be sure to elaborate on experiences in your resume. Failure to provide the required information or providing inaccurate information will result in your application not being considered for this position. Only those applicants who meet the qualifications for the position will be contacted to begin employment processing. Please Note: Job Posting could close earlier than the closing date due to sufficient number of applicants or position no longer available. We encourage you to apply as soon as possible.\n",
      "\n",
      "DCIPS Disclaimer\n",
      "\n",
      "The National Security Agency (NSA) is part of the DoD Intelligence Community Defense Civilian Intelligence Personnel System (DCIPS). All positions in the NSA are in the Excepted Services under 10 United States Codes (USC) 1601 appointment authority.\n",
      "$$$$$$$$$$$$$$$$$$$$$$$$$$$$$$$$$$$$$$$$$$$$$$$$$$$$$$$$$$$$$$$$$$$$\n",
      "  $$$$$$$$$$$$$$$$$$$$$$$$$$$$$$$$$$$$$$$$$$$$$$$$$$$$$$$$$$$$$$$$$$$$$$$$$$$\n",
      "  $$$$$$$$$$$$$$$$$$$$$$$$$$$$$$$$$$$$$$$$$$$$$$$$$$$$$$$$$$$$$$$$$$$$$$$$$$$\n",
      "\n",
      "Minneapolis, Providence or Framingham\n",
      "\n",
      "Who is Virgin Pulse?\n",
      "Virgin Pulse, founded as part of Sir Richard Branson’s famed Virgin Group, helps organizations build employee health and wellbeing into the DNA of their corporate cultures. As the only company to deliver a powerful, mobile-first digital platform infused with live services, including coaching and biometric screenings, Virgin Pulse’s takes a high-tech-meets-high-touch-approach to engage employees in improving across all aspects of their health and wellbeing, every day – from prevention and building a healthy lifestyle to condition and disease management to condition reversal, all while engaging users daily in building and sustaining healthy habits and behaviors. A global leader in health and wellbeing, Virgin Pulse is committed to helping change lives and businesses around the world for good so that people and organizations can thrive, together. Today, more than 3100 organizations across the globe are using Virgin Pulse’s solutions to improve health, employee wellbeing and engagement, reduce costs and create strong workplace cultures.\n",
      "\n",
      "Who are our employees?\n",
      "At Virgin Pulse we’re passionate about changing lives for good. We want to make a difference in the world by helping people be healthy so they can perform at their best, every day, at work and home. Our award-winning solutions support leading employers in improving and simplifying the employee health and wellbeing journey and engaging people in all aspects of their health. But our world-class products and programs are nothing without our people – the employees who design, build, promote, sell, test and perfect the latest innovations in workplace health and wellbeing. Our people are our top priority and we invest in their health and happiness. At Virgin Pulse, we have so much more than a strong, supportive company culture – have a shared vision for a healthier, happier world.\n",
      "Who you are.\n",
      "You are an experienced Data Scientist who is capable of providing support to our organization’s efforts to maintain an innovative leadership position in the employee engagement SaaS industry. The Data Scientist accesses datasets from various sources, conducts analysis, and presents the findings of each analytic and reporting project. The incumbent will be able to interpret the findings and clearly communicate results and recommendations to internal and external customers. Moreover, you are a professional who is self-directed and thrives working in a fast-paced, collaborative environment, in which expectations are high both for the quality and speed of work.\n",
      "In the role of a Data Scientist you will wear many hats and your skills will be crucial in the following:\n",
      "Write SQL, R, Python programs to access, clean, and transform required data prior to analysis and reporting\n",
      "Consult to and collaborate with analytics and client reporting team members to ensure appropriate data is analyzed and that results are provided in a format consistent with standard and customized client reporting services\n",
      "Troubleshoot and perform data audits to ensure and improve data integrity; investigate and resolve data discrepancies\n",
      "Plan and manage data analytic and reporting process to ensure the projects remain on schedule\n",
      "Conduct ad hoc analysis as required using varied analytical tools and techniques\n",
      "Support Client Success, sales and Marketing staff with direct communication with Virgin Pulse clients and prospects regarding the results of the analysis\n",
      "Achieve annual Key Performance Indicator objectives, which can include report volumes and scope, internal and external client satisfaction, introducing new areas of data and analysis, and influencing company product and process decisions\n",
      "\n",
      "What you bring to the team.\n",
      "In order to represent the best of what we have to offer, you come to us with a multitude of positive attributes including:\n",
      "A bachelor’s degree in statistics, computer science, economics, or related field; Master’s degree is a plus\n",
      "A minimum of four years of work experience in a similar position\n",
      "Experience with data and analytic programming languages such as SQL, R, Python\n",
      "Experience with data visualization tools and techniques preferred\n",
      "Experience with producing and delivering results using varied media (i.e., multiple MS office formats, dashboards/visualization tools, and potentially other formats)\n",
      "Experience in employee health management/health engagement industry preferred\n",
      "\n",
      "In addition, you possess the following additional competencies and characteristics:\n",
      "Strong analytical skills, with an emphasis on quantitative analysis, descriptive and inferential statistics\n",
      "Expertise in statistical analytical software, or the ability to learn through prior experience tools such as SAS, Stata, R, SPSS or similar statistical software\n",
      "Strong consulting, communication and presentation skills\n",
      "Advanced R, SQL and database programming skills, experience with MS SQL Server, RedShift, Postgres, and Cassandra/NOSQL databases\n",
      "Experience working with large-scale datasets and multiple projects simultaneously\n",
      "Creative energy, self-starter, works equally well independently and collaboratively\n"
     ]
    }
   ],
   "source": [
    "job_listings = ['Part-time, Contract, Internship\\nSr. Machine Learning/Data Scientist\\n\\ndata245, Bannockburn, IL seeks data scientists.\\n\\nWe are open to all levels of experience (down to an intern) as we are building a team around new initiatives.\\n\\nYou will be developing state of the art algorithms to power various aspects of highly complex business models\\nYou can articulate and understand a business problem, identify challenges, formulate the machine learning problem or NLP problems and provide/prototype solutions\\nYou will provide technical leadership, identify and understand key business challenges and opportunities, and develop end-to-end software solutions using machine learning/NLP and optimization methods.\\n\\nYou will collaborate extensively with internal and external partners, program management, and, at a senior level, the engineering team to ensure that solution meet business needs, permit valid inferences and have functional feasibility\\nYou will collect and manipulate large volumes of data; build new and improved techniques and/or solutions for data collection, management, and usage\\nYou will communicate results in a comprehensible manner to all levels of the company (field teams up to Snr. Management) - this will require client facing in the future - but not initially\\nYou will brainstorm with other team members and leadership - who has 30 plus years experience in the industry that requires the solution.\\nRequirements:\\n\\nPHD or MS in Statistics, Machine Learning, or Computer Science (or technical degree with commensurate industry experience)\\nIdeally the Senior position will possess at least 3 years of relevant work - or academic academic experience, as a Data Scientist / Machine Learning professional.\\nExpertise in NLP a bonus\\nStrong algorithmic design skills\\nOther positions require less tenure, but the same relevant ML understanding.\\nPrevious hands on experience, or thesis dedicated to the same\\nDeep understanding of classic machine learning and deep learning theory, and extensive hands-on experience putting it into practice\\nExcellent understanding of machine learning algorithms, processes, tools and platforms including CNN, RNN, NLP, tensorflow, keras, etc.\\nPython proficiency is must\\nApplied experience with machine learning on large datasets\\\\sparse data with structured and unstructured data.\\nExperience with deep learning, and their optimizations for efficient implementation.\\nGreat communication skills, ability to explain predictive analytics to non-technical audience (not client facing yet, and no sales)\\nExperienced in predictive modelling.\\nExecute analytical experiments methodically while outputting reproducible research.\\nExcited to change an industry struggling to control costs.\\nGood to have – Familiar with one or more programming languages e.g. C++ / Java / Android / iOS\".\\nJob Types: Full-time, Part-time, Internship, Contract\\n\\nSalary: $75,000.00 to $125,000.00 /year\\n\\nEducation:\\n\\nMaster\\'s (Preferred)\\nWork authorization:\\n\\nUnited States (Preferred)\\nHours per week:\\n\\n30-39\\nOvertime often available:\\n\\nNo\\nContract Length:\\n\\nMore than 1 year\\nTypical end time:\\n\\n5PM', \"$96,970 - $148,967 a year\\nThe professionals at the National Security Agency (NSA) have one common goal: to protect our nation. The mission requires a strong offense and a steadfast defense. The offense collects, processes, and disseminates intelligence information derived from foreign signals for intelligence and counterintelligence purposes. The defense prevents adversaries from gaining access to sensitive classified national security information. NSA is the nation's leader in providing foreign signals intelligence while also protecting U.S. government information systems, forging the frontier of communications, and data analysis. We serve the American people by applying technical skills to meaningful work, keeping our friends and families safe for generations to come. You will make a lasting impact serving your country as a Data Scientist at the National Security Agency, using your curiosity to analyze large data sets to inform decision-making against foreign threats. We are looking for critical thinkers, problem solvers, and motivated individuals who are enthusiastic about data and believe that answers to hard questions lie in the yet-to-be-told story of diverse, complicated data sets. You will employ your mathematical science, computer science, and quantitative analysis skills to ensure solutions to complex data problems and take full advantage of the NSA's software and hardware capabilities in all areas of our enterprise, including analytic capabilities, research, and foreign intelligence operations. Data Scientists are hired into positions directly supporting a technical mission office or the Data Scientist Development Program (DSDP). The NSA/CSS Data Scientist Development Program is a three-year opportunity to build your data science talent, experience the breadth of data science at NSA through six- to nine-month assignments in a variety of diverse organizations, and collaborate with NSA's experts in the field of data science. You will have opportunities to attend technical conferences with experts from industry and academia. You will routinely discuss and share NSA's challenges and successes at weekly technical roundtables. We foster an environment where you will develop your data science skills, allowing you to quickly contribute to NSA's mission. As a member of a technical mission office or the DSDP, Data Scientists tackle challenging real-world problems leveraging big data, high-performance computing, machine learning, and a breadth of other methodologies. As a Data Scientist at NSA, responsibilities may include: - Collecting and combining data from multiple sources - Uncovering and exploring anomalous data (including metadata) - Applying the scientific process to data evaluation, performing statistical inference, and data mining - Developing analytic plans, engineer supporting algorithms, and design and implement solutions which execute analytic plans. - Designing and developing tools and techniques for analysis - Analyzing data using mathematical/statistical methods - Evaluating, documenting, and communicating research processes, analyses, and results to customers, peers, and leadership - Creating interpretable visualizations\\n\\nSkills\\n\\nThe ideal candidate is someone with a desire for continual learning and strong problem-solving, analytic and interpersonal skills. You might be a great fit for our team if any of the following describe you: - Completed a degree program in the fields of mathematics, statistics, computer science, computational sciences, or a passion for rigorous analysis of data - Tenacity, integrity, persistence, and willingness to learn - Ability to solve complex problems - Use critical thinking and reasoning to make analytic determinations - Works effectively in a collaborative environment - Strong communications skills to both technical and non-technical audiences - The desire to serve over 300 million fellow Americans and make a difference in world events\\n\\nPay, Benefits, & Work Schedule\\n\\nOn the job training, internal NSA courses, and external training will be made available based on the need and experience of the selectee. Monday - Friday, with basic 8 hr/day requirements between 0800 to 1800 (flexible)\\n\\nPosition Summary\\n\\nNSA is in search of Computer Science professionals to solve complex problems, test innovative approaches and research new solutions to storing, manipulating, and presenting information. We are looking for you to apply your computer science expertise to projects that seek to create new standards for the transformation of information. If you want to develop technologies and tools and be a part of cutting edge innovations ' join our team of experts! Help protect national security interests as part of the world's most advanced team of computer science professionals!\\n\\nMandatory Qualification Reqs\\n\\nCandidates for the NSA's Data Scientist roles are asked to complete a data science examination evaluating their knowledge of statistics, mathematics, and computer science topics that pertain to data science work. Passing this examination is a requirement in order to be considered for selection into a data scientist position. Salary Range: $69,545 - $86,659 (Entry Level/Developmental) *The qualifications listed are the minimum acceptable to be considered for the position. Salary offers are based on candidates' education level and years of experience relevant to the position and also take into account information provided by the hiring manager/organization regarding the work level for the position. Entry is with a Bachelor's degree and no experience. An Associate's degree plus 2 years of relevant experience may be considered for individuals with in-depth experience that is clearly related to the position. Degree must be in Mathematics, Applied Mathematics, Statistics, Applied Statistics, Machine Learning, Data Science, Operations Research, or Computer Science. A degree in a related field (e.g., Computer Information Systems, Engineering), a degree in the physical/hard sciences (e.g. physics, chemistry, biology, astronomy), or other science disciplines (i.e., behavioral, social, and life) may be considered if it includes a concentration of coursework (typically 5 or more courses) in advanced mathematics (typically 200 level or higher; such as calculus, differential equations, discrete mathematics) and/or computer science (e.g., algorithms, programming, data structures, data mining, artificial intelligence). College-level Algebra or other math courses intended to meet a basic college level requirement, or upper level math courses designated as elementary or basic do not count. Note: A broader range of degrees will be considered if accompanied by a Certificate in Data Science from an accredited college/university.\\n\\nRelevant experience must be in designing/implementing machine learning, data mining, advanced analytical algorithms, programming, data science, advanced statistical analysis, artificial intelligence, and/or software engineering. Experience in more than one area is strongly preferred. Salary Range: $80,445 - $107,140 (Full Performance) *The qualifications listed are the minimum acceptable to be considered for the position. Salary offers are based on candidates' education level and years of experience relevant to the position and also take into account information provided by the hiring manager/organization regarding the work level for the position. Entry is with a Bachelor's degree plus 3 years of relevant experience or a Master's degree plus 1 year of relevant experience or a Doctoral degree and no experience. An Associate's degree plus 5 years of relevant experience may be considered for individuals with in-depth experience that is clearly related to the position.\\nDegree must be in Mathematics, Applied Mathematics, Statistics, Applied Statistics, Machine Learning, Data Science, Operations Research, or Computer Science. A degree in a related field (e.g., Computer Information Systems, Engineering), a degree in the physical/hard sciences (e.g. physics, chemistry, biology, astronomy), or other science disciplines (i.e., behavioral, social, and life) may be considered if it includes a concentration of coursework (typically 5 or more courses) in advanced mathematics (typically 200 level or higher; such as calculus, differential equations, discrete mathematics) and/or computer science (e.g., algorithms, programming, data structures, data mining, artificial intelligence). College-level Algebra or other math courses intended to meet a basic college level requirement, or upper level math courses designated as elementary or basic do not count. Note: A broader range of degrees will be considered if accompanied by a Certificate in Data Science from an accredited college/university. Relevant experience must be in two or more of the following: designing/implementing machine learning, data mining, advanced analytical algorithms, programming, data science, advanced statistical analysis, artificial intelligence, or software engineering. Salary Range: $96,970 - $148,967 (Senior) *The qualifications listed are the minimum acceptable to be considered for the position. Salary offers are based on candidates' education level and years of experience relevant to the position and also take into account information provided by the hiring manager/organization regarding the work level for the position. Entry is with a Bachelor's degree plus 6 years of relevant experience or a Master's degree plus 4 years of relevant experience or a Doctoral degree plus 2 years of relevant experience. An Associate's degree plus 8 years of relevant experience may be considered for individuals with in-depth experience that is clearly related to the position. Degree must be in Mathematics, Applied Mathematics, Statistics, Applied Statistics, Machine Learning, Data Science, Operations Research, or Computer Science. A degree in a related field (e.g., Computer Information Systems, Engineering), a degree in the physical/hard sciences (e.g., physics, chemistry, biology, astronomy), or other science disciplines (i.e., behavioral, social, life) may be considered if it includes a concentration of coursework (typically 5 or more courses) in advanced mathematics (typically 200 level or higher; such as calculus, differential equations, discrete mathematics) and/or computer science (e.g., algorithms, programming, data structures, data mining, artificial intelligence). College-level Algebra or other math courses intended to meet a basic college level requirement, or upper level math courses designated as elementary or basic do not count. Note: A broader range of degrees will be considered if accompanied by a Certificate in Data Science from an accredited college/university. Relevant experience must be in two or more of the following: designing/implementing machine learning, data mining, advanced analytical algorithms, programming, data science, advanced statistical analysis, artificial intelligence, or software engineering. Salary Range: $134,789- $164,200 (Expert) *The qualifications listed are the minimum acceptable to be considered for the position. Salary offers are based on candidates' education level and years of experience relevant to the position and also take into account information provided by the hiring manager/organization regarding the work level for the position. Entry is with a Bachelor's degree plus 9 years of relevant experience or a Master's degree plus 7 years of relevant experience or a Doctoral degree plus 5 years of relevant experience. An Associate's degree plus 11 years of relevant experience may be considered for individuals with in-depth experience that is clearly related to the position. Degree must be in Mathematics, Applied Mathematics, Statistics, Applied Statistics, Machine Learning, Data Science, Operations Research, or Computer Science. A degree in a related field (e.g., Computer Information Systems, Engineering), a degree in the physical/hard sciences (e.g., physics, chemistry, biology, astronomy), or other science disciplines (i.e., behavioral, social, life) may be considered if it includes a concentration of coursework (typically 5 or more courses) in advanced mathematics (typically 200 level or higher; such as calculus, differential equations, discrete mathematics) and/or computer science (e.g., algorithms, programming, data structures, data mining, artificial intelligence). College-level Algebra or other math courses intended to meet a basic college level requirement, or upper level math courses designated as elementary or basic do not count. Note: A broader range of degrees will be considered if accompanied by a Certificate in Data Science from an accredited college/university. Relevant experience must be in two or more of the following: designing/implementing machine learning, data mining, advanced analytical algorithms, programming, data science, advanced statistical analysis, artificial intelligence, or software engineering.\\n\\nHow To Apply - External\\n\\nTo apply for this position, please click the 'Apply' button located at the top right of this posting. After completing the application for the first time, or reviewing previously entered information, and clicking the 'Submit' button, you will receive a confirmation email. Please ensure your spam filters are configured to accept emails from noreply@intelligencecareers.gov. ***PLEASE NOTE: U.S. Citizenship is required for all applicants. Reasonable accommodations provided to applicants with disabilities during the application and hiring process where appropriate. NSA is an equal opportunity employer and abides by applicable employment laws and regulations. All applicants and employees are subject to random drug testing in accordance with Executive Order 12564. Employment is contingent upon successful completion of a security background investigation and polygraph. This position is a Defense Civilian Intelligence Personnel System (DCIPS) position in the Excepted Service under 10 U.S.C. 1601. DoD Components with DCIPS positions apply Veterans' Preference to eligible candidates as defined by Section 2108 of Title 5 USC, in accordance with the procedures provided in DoD Instruction 1400.25, Volume 2005, DCIPS Employment and Placement. If you are a veteran claiming veterans' preference, as defined by Section 2108 of Title 5 U.S.C., you may be asked to submit documents verifying your eligibility. Please note that you may be asked a series of questions depending on the position you apply for. Your responses will be used as part of the screening process of your application and will assist in determining your eligibility for the position. Be sure to elaborate on experiences in your resume. Failure to provide the required information or providing inaccurate information will result in your application not being considered for this position. Only those applicants who meet the qualifications for the position will be contacted to begin employment processing. Please Note: Job Posting could close earlier than the closing date due to sufficient number of applicants or position no longer available. We encourage you to apply as soon as possible.\\n\\nDCIPS Disclaimer\\n\\nThe National Security Agency (NSA) is part of the DoD Intelligence Community Defense Civilian Intelligence Personnel System (DCIPS). All positions in the NSA are in the Excepted Services under 10 United States Codes (USC) 1601 appointment authority.\", '\\nMinneapolis, Providence or Framingham\\n\\nWho is Virgin Pulse?\\nVirgin Pulse, founded as part of Sir Richard Branson’s famed Virgin Group, helps organizations build employee health and wellbeing into the DNA of their corporate cultures. As the only company to deliver a powerful, mobile-first digital platform infused with live services, including coaching and biometric screenings, Virgin Pulse’s takes a high-tech-meets-high-touch-approach to engage employees in improving across all aspects of their health and wellbeing, every day – from prevention and building a healthy lifestyle to condition and disease management to condition reversal, all while engaging users daily in building and sustaining healthy habits and behaviors. A global leader in health and wellbeing, Virgin Pulse is committed to helping change lives and businesses around the world for good so that people and organizations can thrive, together. Today, more than 3100 organizations across the globe are using Virgin Pulse’s solutions to improve health, employee wellbeing and engagement, reduce costs and create strong workplace cultures.\\n\\nWho are our employees?\\nAt Virgin Pulse we’re passionate about changing lives for good. We want to make a difference in the world by helping people be healthy so they can perform at their best, every day, at work and home. Our award-winning solutions support leading employers in improving and simplifying the employee health and wellbeing journey and engaging people in all aspects of their health. But our world-class products and programs are nothing without our people – the employees who design, build, promote, sell, test and perfect the latest innovations in workplace health and wellbeing. Our people are our top priority and we invest in their health and happiness. At Virgin Pulse, we have so much more than a strong, supportive company culture – have a shared vision for a healthier, happier world.\\nWho you are.\\nYou are an experienced Data Scientist who is capable of providing support to our organization’s efforts to maintain an innovative leadership position in the employee engagement SaaS industry. The Data Scientist accesses datasets from various sources, conducts analysis, and presents the findings of each analytic and reporting project. The incumbent will be able to interpret the findings and clearly communicate results and recommendations to internal and external customers. Moreover, you are a professional who is self-directed and thrives working in a fast-paced, collaborative environment, in which expectations are high both for the quality and speed of work.\\nIn the role of a Data Scientist you will wear many hats and your skills will be crucial in the following:\\nWrite SQL, R, Python programs to access, clean, and transform required data prior to analysis and reporting\\nConsult to and collaborate with analytics and client reporting team members to ensure appropriate data is analyzed and that results are provided in a format consistent with standard and customized client reporting services\\nTroubleshoot and perform data audits to ensure and improve data integrity; investigate and resolve data discrepancies\\nPlan and manage data analytic and reporting process to ensure the projects remain on schedule\\nConduct ad hoc analysis as required using varied analytical tools and techniques\\nSupport Client Success, sales and Marketing staff with direct communication with Virgin Pulse clients and prospects regarding the results of the analysis\\nAchieve annual Key Performance Indicator objectives, which can include report volumes and scope, internal and external client satisfaction, introducing new areas of data and analysis, and influencing company product and process decisions\\n\\nWhat you bring to the team.\\nIn order to represent the best of what we have to offer, you come to us with a multitude of positive attributes including:\\nA bachelor’s degree in statistics, computer science, economics, or related field; Master’s degree is a plus\\nA minimum of four years of work experience in a similar position\\nExperience with data and analytic programming languages such as SQL, R, Python\\nExperience with data visualization tools and techniques preferred\\nExperience with producing and delivering results using varied media (i.e., multiple MS office formats, dashboards/visualization tools, and potentially other formats)\\nExperience in employee health management/health engagement industry preferred\\n\\nIn addition, you possess the following additional competencies and characteristics:\\nStrong analytical skills, with an emphasis on quantitative analysis, descriptive and inferential statistics\\nExpertise in statistical analytical software, or the ability to learn through prior experience tools such as SAS, Stata, R, SPSS or similar statistical software\\nStrong consulting, communication and presentation skills\\nAdvanced R, SQL and database programming skills, experience with MS SQL Server, RedShift, Postgres, and Cassandra/NOSQL databases\\nExperience working with large-scale datasets and multiple projects simultaneously\\nCreative energy, self-starter, works equally well independently and collaboratively']\n",
    "\n",
    "for l in job_listings:\n",
    "  print('''$$$$$$$$$$$$$$$$$$$$$$$$$$$$$$$$$$$$$$$$$$$$$$$$$$$$$$$$$$$$$$$$$$$$\n",
    "  $$$$$$$$$$$$$$$$$$$$$$$$$$$$$$$$$$$$$$$$$$$$$$$$$$$$$$$$$$$$$$$$$$$$$$$$$$$\n",
    "  $$$$$$$$$$$$$$$$$$$$$$$$$$$$$$$$$$$$$$$$$$$$$$$$$$$$$$$$$$$$$$$$$$$$$$$$$$$''')\n",
    "  print(l)"
   ]
  },
  {
   "cell_type": "code",
   "execution_count": 39,
   "metadata": {},
   "outputs": [],
   "source": [
    "def remove_stop_words(text, stopwords=stopwords):\n",
    "    text = text.lower()\n",
    "    regex = r'\\w+'\n",
    "    new_text = re.findall(regex, text)\n",
    "    new_list = [word for word in new_text if word not in stopwords]\n",
    "    return new_list\n",
    "\n",
    "def final_list(job_listings):\n",
    "    last_list = []\n",
    "    for listing in job_listings:\n",
    "        listing = remove_stop_words(listing) # calling remove stop words on individual strings in list\n",
    "        last_list.append(listing)\n",
    "    return last_list\n",
    "\n",
    "job_lists = final_list(job_listings)\n",
    "# print(job_lists)"
   ]
  },
  {
   "cell_type": "code",
   "execution_count": 62,
   "metadata": {},
   "outputs": [
    {
     "name": "stdout",
     "output_type": "stream",
     "text": [
      "['part', 'time', 'contract', 'internship', 'sr', 'machine', 'learning', 'data', 'scientist', 'data245', 'bannockburn', 'il', 'seeks', 'data', 'scientists', 'we', 'open', 'levels', 'experience', 'intern', 'we', 'building', 'team', 'around', 'new', 'initiatives', 'developing', 'state', 'art', 'algorithms', 'power', 'various', 'aspects', 'highly', 'complex', 'business', 'models', 'articulate', 'understand', 'business', 'problem', 'identify', 'challenges', 'formulate', 'machine', 'learning', 'problem', 'nlp', 'problems', 'provide', 'prototype', 'solutions', 'provide', 'technical', 'leadership', 'identify', 'understand', 'key', 'business', 'challenges', 'opportunities', 'develop', 'end', 'end', 'software', 'solutions', 'using', 'machine', 'learning', 'nlp', 'optimization', 'methods', 'collaborate', 'extensively', 'internal', 'external', 'partners', 'program', 'management', 'senior', 'level', 'engineering', 'team', 'ensure', 'solution', 'meet', 'business', 'needs', 'permit', 'valid', 'inferences', 'functional', 'feasibility', 'collect', 'manipulate', 'large', 'volumes', 'data', 'build', 'new', 'improved', 'techniques', 'solutions', 'data', 'collection', 'management', 'usage', 'communicate', 'results', 'comprehensible', 'manner', 'levels', 'company', 'field', 'teams', 'snr', 'management', 'require', 'client', 'facing', 'future', 'initially', 'brainstorm', 'team', 'members', 'leadership', '30', 'plus', 'years', 'experience', 'industry', 'requires', 'solution', 'requirements', 'phd', 'ms', 'statistics', 'machine', 'learning', 'computer', 'science', 'technical', 'degree', 'commensurate', 'industry', 'experience', 'ideally', 'senior', 'position', 'possess', 'least', '3', 'years', 'relevant', 'work', 'academic', 'academic', 'experience', 'data', 'scientist', 'machine', 'learning', 'professional', 'expertise', 'nlp', 'bonus', 'strong', 'algorithmic', 'design', 'skills', 'positions', 'require', 'less', 'tenure', 'relevant', 'ml', 'understanding', 'previous', 'hands', 'experience', 'thesis', 'dedicated', 'deep', 'understanding', 'classic', 'machine', 'learning', 'deep', 'learning', 'theory', 'extensive', 'hands', 'experience', 'putting', 'practice', 'excellent', 'understanding', 'machine', 'learning', 'algorithms', 'processes', 'tools', 'platforms', 'including', 'cnn', 'rnn', 'nlp', 'tensorflow', 'keras', 'etc', 'python', 'proficiency', 'must', 'applied', 'experience', 'machine', 'learning', 'large', 'datasets', 'sparse', 'data', 'structured', 'unstructured', 'data', 'experience', 'deep', 'learning', 'optimizations', 'efficient', 'implementation', 'great', 'communication', 'skills', 'ability', 'explain', 'predictive', 'analytics', 'non', 'technical', 'audience', 'client', 'facing', 'yet', 'sales', 'experienced', 'predictive', 'modelling', 'execute', 'analytical', 'experiments', 'methodically', 'outputting', 'reproducible', 'research', 'excited', 'change', 'industry', 'struggling', 'control', 'costs', 'good', 'familiar', 'one', 'programming', 'languages', 'e', 'g', 'c', 'java', 'android', 'ios', 'job', 'types', 'full', 'time', 'part', 'time', 'internship', 'contract', 'salary', '75', '000', '00', '125', '000', '00', 'year', 'education', 'master', 'preferred', 'work', 'authorization', 'united', 'states', 'preferred', 'hours', 'per', 'week', '30', '39', 'overtime', 'often', 'available', 'contract', 'length', '1', 'year', 'typical', 'end', 'time', '5pm']\n",
      "['96', '970', '148', '967', 'year', 'professionals', 'national', 'security', 'agency', 'nsa', 'one', 'common', 'goal', 'protect', 'our', 'nation', 'mission', 'requires', 'strong', 'offense', 'steadfast', 'defense', 'offense', 'collects', 'processes', 'disseminates', 'intelligence', 'information', 'derived', 'foreign', 'signals', 'intelligence', 'counterintelligence', 'purposes', 'defense', 'prevents', 'adversaries', 'gaining', 'access', 'sensitive', 'classified', 'national', 'security', 'information', 'nsa', 'nation', 'leader', 'providing', 'foreign', 'signals', 'intelligence', 'also', 'protecting', 'u', 'government', 'information', 'systems', 'forging', 'frontier', 'communications', 'data', 'analysis', 'we', 'serve', 'american', 'people', 'applying', 'technical', 'skills', 'meaningful', 'work', 'keeping', 'our', 'friends', 'families', 'safe', 'generations', 'come', 'make', 'lasting', 'impact', 'serving', 'country', 'data', 'scientist', 'national', 'security', 'agency', 'using', 'curiosity', 'analyze', 'large', 'data', 'sets', 'inform', 'decision', 'making', 'foreign', 'threats', 'we', 'looking', 'critical', 'thinkers', 'problem', 'solvers', 'motivated', 'individuals', 'enthusiastic', 'data', 'believe', 'answers', 'hard', 'questions', 'lie', 'yet', 'told', 'story', 'diverse', 'complicated', 'data', 'sets', 'employ', 'mathematical', 'science', 'computer', 'science', 'quantitative', 'analysis', 'skills', 'ensure', 'solutions', 'complex', 'data', 'problems', 'take', 'full', 'advantage', 'nsa', 'software', 'hardware', 'capabilities', 'areas', 'our', 'enterprise', 'including', 'analytic', 'capabilities', 'research', 'foreign', 'intelligence', 'operations', 'data', 'scientists', 'hired', 'positions', 'directly', 'supporting', 'technical', 'mission', 'office', 'data', 'scientist', 'development', 'program', 'dsdp', 'nsa', 'css', 'data', 'scientist', 'development', 'program', 'three', 'year', 'opportunity', 'build', 'data', 'science', 'talent', 'experience', 'breadth', 'data', 'science', 'nsa', 'six', 'nine', 'month', 'assignments', 'variety', 'diverse', 'organizations', 'collaborate', 'nsa', 'experts', 'field', 'data', 'science', 'opportunities', 'attend', 'technical', 'conferences', 'experts', 'industry', 'academia', 'routinely', 'discuss', 'share', 'nsa', 'challenges', 'successes', 'weekly', 'technical', 'roundtables', 'we', 'foster', 'environment', 'develop', 'data', 'science', 'skills', 'allowing', 'quickly', 'contribute', 'nsa', 'mission', 'member', 'technical', 'mission', 'office', 'dsdp', 'data', 'scientists', 'tackle', 'challenging', 'real', 'world', 'problems', 'leveraging', 'big', 'data', 'high', 'performance', 'computing', 'machine', 'learning', 'breadth', 'methodologies', 'data', 'scientist', 'nsa', 'responsibilities', 'may', 'include', 'collecting', 'combining', 'data', 'multiple', 'sources', 'uncovering', 'exploring', 'anomalous', 'data', 'including', 'metadata', 'applying', 'scientific', 'process', 'data', 'evaluation', 'performing', 'statistical', 'inference', 'data', 'mining', 'developing', 'analytic', 'plans', 'engineer', 'supporting', 'algorithms', 'design', 'implement', 'solutions', 'execute', 'analytic', 'plans', 'designing', 'developing', 'tools', 'techniques', 'analysis', 'analyzing', 'data', 'using', 'mathematical', 'statistical', 'methods', 'evaluating', 'documenting', 'communicating', 'research', 'processes', 'analyses', 'results', 'customers', 'peers', 'leadership', 'creating', 'interpretable', 'visualizations', 'skills', 'ideal', 'candidate', 'someone', 'desire', 'continual', 'learning', 'strong', 'problem', 'solving', 'analytic', 'interpersonal', 'skills', 'might', 'great', 'fit', 'our', 'team', 'following', 'describe', 'completed', 'degree', 'program', 'fields', 'mathematics', 'statistics', 'computer', 'science', 'computational', 'sciences', 'passion', 'rigorous', 'analysis', 'data', 'tenacity', 'integrity', 'persistence', 'willingness', 'learn', 'ability', 'solve', 'complex', 'problems', 'use', 'critical', 'thinking', 'reasoning', 'make', 'analytic', 'determinations', 'works', 'effectively', 'collaborative', 'environment', 'strong', 'communications', 'skills', 'technical', 'non', 'technical', 'audiences', 'desire', 'serve', '300', 'million', 'fellow', 'americans', 'make', 'difference', 'world', 'events', 'pay', 'benefits', 'work', 'schedule', 'job', 'training', 'internal', 'nsa', 'courses', 'external', 'training', 'made', 'available', 'based', 'need', 'experience', 'selectee', 'monday', 'friday', 'basic', '8', 'hr', 'day', 'requirements', '0800', '1800', 'flexible', 'position', 'summary', 'nsa', 'search', 'computer', 'science', 'professionals', 'solve', 'complex', 'problems', 'test', 'innovative', 'approaches', 'research', 'new', 'solutions', 'storing', 'manipulating', 'presenting', 'information', 'we', 'looking', 'apply', 'computer', 'science', 'expertise', 'projects', 'seek', 'create', 'new', 'standards', 'transformation', 'information', 'want', 'develop', 'technologies', 'tools', 'part', 'cutting', 'edge', 'innovations', 'join', 'our', 'team', 'experts', 'help', 'protect', 'national', 'security', 'interests', 'part', 'world', 'advanced', 'team', 'computer', 'science', 'professionals', 'mandatory', 'qualification', 'reqs', 'candidates', 'nsa', 'data', 'scientist', 'roles', 'asked', 'complete', 'data', 'science', 'examination', 'evaluating', 'knowledge', 'statistics', 'mathematics', 'computer', 'science', 'topics', 'pertain', 'data', 'science', 'work', 'passing', 'examination', 'requirement', 'order', 'considered', 'selection', 'data', 'scientist', 'position', 'salary', 'range', '69', '545', '86', '659', 'entry', 'level', 'developmental', 'qualifications', 'listed', 'minimum', 'acceptable', 'considered', 'position', 'salary', 'offers', 'based', 'candidates', 'education', 'level', 'years', 'experience', 'relevant', 'position', 'also', 'take', 'account', 'information', 'provided', 'hiring', 'manager', 'organization', 'regarding', 'work', 'level', 'position', 'entry', 'bachelor', 'degree', 'experience', 'associate', 'degree', 'plus', '2', 'years', 'relevant', 'experience', 'may', 'considered', 'individuals', 'depth', 'experience', 'clearly', 'related', 'position', 'degree', 'must', 'mathematics', 'applied', 'mathematics', 'statistics', 'applied', 'statistics', 'machine', 'learning', 'data', 'science', 'operations', 'research', 'computer', 'science', 'degree', 'related', 'field', 'e', 'g', 'computer', 'information', 'systems', 'engineering', 'degree', 'physical', 'hard', 'sciences', 'e', 'g', 'physics', 'chemistry', 'biology', 'astronomy', 'science', 'disciplines', 'e', 'behavioral', 'social', 'life', 'may', 'considered', 'includes', 'concentration', 'coursework', 'typically', '5', 'courses', 'advanced', 'mathematics', 'typically', '200', 'level', 'higher', 'calculus', 'differential', 'equations', 'discrete', 'mathematics', 'computer', 'science', 'e', 'g', 'algorithms', 'programming', 'data', 'structures', 'data', 'mining', 'artificial', 'intelligence', 'college', 'level', 'algebra', 'math', 'courses', 'intended', 'meet', 'basic', 'college', 'level', 'requirement', 'upper', 'level', 'math', 'courses', 'designated', 'elementary', 'basic', 'count', 'note', 'broader', 'range', 'degrees', 'considered', 'accompanied', 'certificate', 'data', 'science', 'accredited', 'college', 'university', 'relevant', 'experience', 'must', 'designing', 'implementing', 'machine', 'learning', 'data', 'mining', 'advanced', 'analytical', 'algorithms', 'programming', 'data', 'science', 'advanced', 'statistical', 'analysis', 'artificial', 'intelligence', 'software', 'engineering', 'experience', 'one', 'area', 'strongly', 'preferred', 'salary', 'range', '80', '445', '107', '140', 'full', 'performance', 'qualifications', 'listed', 'minimum', 'acceptable', 'considered', 'position', 'salary', 'offers', 'based', 'candidates', 'education', 'level', 'years', 'experience', 'relevant', 'position', 'also', 'take', 'account', 'information', 'provided', 'hiring', 'manager', 'organization', 'regarding', 'work', 'level', 'position', 'entry', 'bachelor', 'degree', 'plus', '3', 'years', 'relevant', 'experience', 'master', 'degree', 'plus', '1', 'year', 'relevant', 'experience', 'doctoral', 'degree', 'experience', 'associate', 'degree', 'plus', '5', 'years', 'relevant', 'experience', 'may', 'considered', 'individuals', 'depth', 'experience', 'clearly', 'related', 'position', 'degree', 'must', 'mathematics', 'applied', 'mathematics', 'statistics', 'applied', 'statistics', 'machine', 'learning', 'data', 'science', 'operations', 'research', 'computer', 'science', 'degree', 'related', 'field', 'e', 'g', 'computer', 'information', 'systems', 'engineering', 'degree', 'physical', 'hard', 'sciences', 'e', 'g', 'physics', 'chemistry', 'biology', 'astronomy', 'science', 'disciplines', 'e', 'behavioral', 'social', 'life', 'may', 'considered', 'includes', 'concentration', 'coursework', 'typically', '5', 'courses', 'advanced', 'mathematics', 'typically', '200', 'level', 'higher', 'calculus', 'differential', 'equations', 'discrete', 'mathematics', 'computer', 'science', 'e', 'g', 'algorithms', 'programming', 'data', 'structures', 'data', 'mining', 'artificial', 'intelligence', 'college', 'level', 'algebra', 'math', 'courses', 'intended', 'meet', 'basic', 'college', 'level', 'requirement', 'upper', 'level', 'math', 'courses', 'designated', 'elementary', 'basic', 'count', 'note', 'broader', 'range', 'degrees', 'considered', 'accompanied', 'certificate', 'data', 'science', 'accredited', 'college', 'university', 'relevant', 'experience', 'must', 'two', 'following', 'designing', 'implementing', 'machine', 'learning', 'data', 'mining', 'advanced', 'analytical', 'algorithms', 'programming', 'data', 'science', 'advanced', 'statistical', 'analysis', 'artificial', 'intelligence', 'software', 'engineering', 'salary', 'range', '96', '970', '148', '967', 'senior', 'qualifications', 'listed', 'minimum', 'acceptable', 'considered', 'position', 'salary', 'offers', 'based', 'candidates', 'education', 'level', 'years', 'experience', 'relevant', 'position', 'also', 'take', 'account', 'information', 'provided', 'hiring', 'manager', 'organization', 'regarding', 'work', 'level', 'position', 'entry', 'bachelor', 'degree', 'plus', '6', 'years', 'relevant', 'experience', 'master', 'degree', 'plus', '4', 'years', 'relevant', 'experience', 'doctoral', 'degree', 'plus', '2', 'years', 'relevant', 'experience', 'associate', 'degree', 'plus', '8', 'years', 'relevant', 'experience', 'may', 'considered', 'individuals', 'depth', 'experience', 'clearly', 'related', 'position', 'degree', 'must', 'mathematics', 'applied', 'mathematics', 'statistics', 'applied', 'statistics', 'machine', 'learning', 'data', 'science', 'operations', 'research', 'computer', 'science', 'degree', 'related', 'field', 'e', 'g', 'computer', 'information', 'systems', 'engineering', 'degree', 'physical', 'hard', 'sciences', 'e', 'g', 'physics', 'chemistry', 'biology', 'astronomy', 'science', 'disciplines', 'e', 'behavioral', 'social', 'life', 'may', 'considered', 'includes', 'concentration', 'coursework', 'typically', '5', 'courses', 'advanced', 'mathematics', 'typically', '200', 'level', 'higher', 'calculus', 'differential', 'equations', 'discrete', 'mathematics', 'computer', 'science', 'e', 'g', 'algorithms', 'programming', 'data', 'structures', 'data', 'mining', 'artificial', 'intelligence', 'college', 'level', 'algebra', 'math', 'courses', 'intended', 'meet', 'basic', 'college', 'level', 'requirement', 'upper', 'level', 'math', 'courses', 'designated', 'elementary', 'basic', 'count', 'note', 'broader', 'range', 'degrees', 'considered', 'accompanied', 'certificate', 'data', 'science', 'accredited', 'college', 'university', 'relevant', 'experience', 'must', 'two', 'following', 'designing', 'implementing', 'machine', 'learning', 'data', 'mining', 'advanced', 'analytical', 'algorithms', 'programming', 'data', 'science', 'advanced', 'statistical', 'analysis', 'artificial', 'intelligence', 'software', 'engineering', 'salary', 'range', '134', '789', '164', '200', 'expert', 'qualifications', 'listed', 'minimum', 'acceptable', 'considered', 'position', 'salary', 'offers', 'based', 'candidates', 'education', 'level', 'years', 'experience', 'relevant', 'position', 'also', 'take', 'account', 'information', 'provided', 'hiring', 'manager', 'organization', 'regarding', 'work', 'level', 'position', 'entry', 'bachelor', 'degree', 'plus', '9', 'years', 'relevant', 'experience', 'master', 'degree', 'plus', '7', 'years', 'relevant', 'experience', 'doctoral', 'degree', 'plus', '5', 'years', 'relevant', 'experience', 'associate', 'degree', 'plus', '11', 'years', 'relevant', 'experience', 'may', 'considered', 'individuals', 'depth', 'experience', 'clearly', 'related', 'position', 'degree', 'must', 'mathematics', 'applied', 'mathematics', 'statistics', 'applied', 'statistics', 'machine', 'learning', 'data', 'science', 'operations', 'research', 'computer', 'science', 'degree', 'related', 'field', 'e', 'g', 'computer', 'information', 'systems', 'engineering', 'degree', 'physical', 'hard', 'sciences', 'e', 'g', 'physics', 'chemistry', 'biology', 'astronomy', 'science', 'disciplines', 'e', 'behavioral', 'social', 'life', 'may', 'considered', 'includes', 'concentration', 'coursework', 'typically', '5', 'courses', 'advanced', 'mathematics', 'typically', '200', 'level', 'higher', 'calculus', 'differential', 'equations', 'discrete', 'mathematics', 'computer', 'science', 'e', 'g', 'algorithms', 'programming', 'data', 'structures', 'data', 'mining', 'artificial', 'intelligence', 'college', 'level', 'algebra', 'math', 'courses', 'intended', 'meet', 'basic', 'college', 'level', 'requirement', 'upper', 'level', 'math', 'courses', 'designated', 'elementary', 'basic', 'count', 'note', 'broader', 'range', 'degrees', 'considered', 'accompanied', 'certificate', 'data', 'science', 'accredited', 'college', 'university', 'relevant', 'experience', 'must', 'two', 'following', 'designing', 'implementing', 'machine', 'learning', 'data', 'mining', 'advanced', 'analytical', 'algorithms', 'programming', 'data', 'science', 'advanced', 'statistical', 'analysis', 'artificial', 'intelligence', 'software', 'engineering', 'apply', 'external', 'apply', 'position', 'please', 'click', 'apply', 'button', 'located', 'top', 'right', 'posting', 'completing', 'application', 'first', 'time', 'reviewing', 'previously', 'entered', 'information', 'clicking', 'submit', 'button', 'receive', 'confirmation', 'email', 'please', 'ensure', 'spam', 'filters', 'configured', 'accept', 'emails', 'noreply', 'intelligencecareers', 'gov', 'please', 'note', 'u', 'citizenship', 'required', 'applicants', 'reasonable', 'accommodations', 'provided', 'applicants', 'disabilities', 'application', 'hiring', 'process', 'appropriate', 'nsa', 'equal', 'opportunity', 'employer', 'abides', 'applicable', 'employment', 'laws', 'regulations', 'applicants', 'employees', 'subject', 'random', 'drug', 'testing', 'accordance', 'executive', 'order', '12564', 'employment', 'contingent', 'upon', 'successful', 'completion', 'security', 'background', 'investigation', 'polygraph', 'position', 'defense', 'civilian', 'intelligence', 'personnel', 'system', 'dcips', 'position', 'excepted', 'service', '10', 'u', 'c', '1601', 'dod', 'components', 'dcips', 'positions', 'apply', 'veterans', 'preference', 'eligible', 'candidates', 'defined', 'section', '2108', 'title', '5', 'usc', 'accordance', 'procedures', 'provided', 'dod', 'instruction', '1400', '25', 'volume', '2005', 'dcips', 'employment', 'placement', 'veteran', 'claiming', 'veterans', 'preference', 'defined', 'section', '2108', 'title', '5', 'u', 'c', 'may', 'asked', 'submit', 'documents', 'verifying', 'eligibility', 'please', 'note', 'may', 'asked', 'series', 'questions', 'depending', 'position', 'apply', 'responses', 'used', 'part', 'screening', 'process', 'application', 'assist', 'determining', 'eligibility', 'position', 'sure', 'elaborate', 'experiences', 'resume', 'failure', 'provide', 'required', 'information', 'providing', 'inaccurate', 'information', 'result', 'application', 'considered', 'position', 'applicants', 'meet', 'qualifications', 'position', 'contacted', 'begin', 'employment', 'processing', 'please', 'note', 'job', 'posting', 'could', 'close', 'earlier', 'closing', 'date', 'due', 'sufficient', 'number', 'applicants', 'position', 'longer', 'available', 'we', 'encourage', 'apply', 'soon', 'possible', 'dcips', 'disclaimer', 'national', 'security', 'agency', 'nsa', 'part', 'dod', 'intelligence', 'community', 'defense', 'civilian', 'intelligence', 'personnel', 'system', 'dcips', 'positions', 'nsa', 'excepted', 'services', '10', 'united', 'states', 'codes', 'usc', '1601', 'appointment', 'authority']\n",
      "['minneapolis', 'providence', 'framingham', 'virgin', 'pulse', 'virgin', 'pulse', 'founded', 'part', 'sir', 'richard', 'branson', 'famed', 'virgin', 'group', 'helps', 'organizations', 'build', 'employee', 'health', 'wellbeing', 'dna', 'corporate', 'cultures', 'company', 'deliver', 'powerful', 'mobile', 'first', 'digital', 'platform', 'infused', 'live', 'services', 'including', 'coaching', 'biometric', 'screenings', 'virgin', 'pulse', 'takes', 'high', 'tech', 'meets', 'high', 'touch', 'approach', 'engage', 'employees', 'improving', 'across', 'aspects', 'health', 'wellbeing', 'every', 'day', 'prevention', 'building', 'healthy', 'lifestyle', 'condition', 'disease', 'management', 'condition', 'reversal', 'engaging', 'users', 'daily', 'building', 'sustaining', 'healthy', 'habits', 'behaviors', 'global', 'leader', 'health', 'wellbeing', 'virgin', 'pulse', 'committed', 'helping', 'change', 'lives', 'businesses', 'around', 'world', 'good', 'people', 'organizations', 'thrive', 'together', 'today', '3100', 'organizations', 'across', 'globe', 'using', 'virgin', 'pulse', 'solutions', 'improve', 'health', 'employee', 'wellbeing', 'engagement', 'reduce', 'costs', 'create', 'strong', 'workplace', 'cultures', 'our', 'employees', 'virgin', 'pulse', 'we', 're', 'passionate', 'changing', 'lives', 'good', 'we', 'want', 'make', 'difference', 'world', 'helping', 'people', 'healthy', 'perform', 'best', 'every', 'day', 'work', 'home', 'our', 'award', 'winning', 'solutions', 'support', 'leading', 'employers', 'improving', 'simplifying', 'employee', 'health', 'wellbeing', 'journey', 'engaging', 'people', 'aspects', 'health', 'our', 'world', 'class', 'products', 'programs', 'nothing', 'without', 'our', 'people', 'employees', 'design', 'build', 'promote', 'sell', 'test', 'perfect', 'latest', 'innovations', 'workplace', 'health', 'wellbeing', 'our', 'people', 'our', 'top', 'priority', 'we', 'invest', 'health', 'happiness', 'virgin', 'pulse', 'we', 'much', 'strong', 'supportive', 'company', 'culture', 'shared', 'vision', 'healthier', 'happier', 'world', 'experienced', 'data', 'scientist', 'capable', 'providing', 'support', 'our', 'organization', 'efforts', 'maintain', 'innovative', 'leadership', 'position', 'employee', 'engagement', 'saas', 'industry', 'data', 'scientist', 'accesses', 'datasets', 'various', 'sources', 'conducts', 'analysis', 'presents', 'findings', 'analytic', 'reporting', 'project', 'incumbent', 'able', 'interpret', 'findings', 'clearly', 'communicate', 'results', 'recommendations', 'internal', 'external', 'customers', 'moreover', 'professional', 'self', 'directed', 'thrives', 'working', 'fast', 'paced', 'collaborative', 'environment', 'expectations', 'high', 'quality', 'speed', 'work', 'role', 'data', 'scientist', 'wear', 'many', 'hats', 'skills', 'crucial', 'following', 'write', 'sql', 'r', 'python', 'programs', 'access', 'clean', 'transform', 'required', 'data', 'prior', 'analysis', 'reporting', 'consult', 'collaborate', 'analytics', 'client', 'reporting', 'team', 'members', 'ensure', 'appropriate', 'data', 'analyzed', 'results', 'provided', 'format', 'consistent', 'standard', 'customized', 'client', 'reporting', 'services', 'troubleshoot', 'perform', 'data', 'audits', 'ensure', 'improve', 'data', 'integrity', 'investigate', 'resolve', 'data', 'discrepancies', 'plan', 'manage', 'data', 'analytic', 'reporting', 'process', 'ensure', 'projects', 'remain', 'schedule', 'conduct', 'ad', 'hoc', 'analysis', 'required', 'using', 'varied', 'analytical', 'tools', 'techniques', 'support', 'client', 'success', 'sales', 'marketing', 'staff', 'direct', 'communication', 'virgin', 'pulse', 'clients', 'prospects', 'regarding', 'results', 'analysis', 'achieve', 'annual', 'key', 'performance', 'indicator', 'objectives', 'include', 'report', 'volumes', 'scope', 'internal', 'external', 'client', 'satisfaction', 'introducing', 'new', 'areas', 'data', 'analysis', 'influencing', 'company', 'product', 'process', 'decisions', 'bring', 'team', 'order', 'represent', 'best', 'we', 'offer', 'come', 'us', 'multitude', 'positive', 'attributes', 'including', 'bachelor', 'degree', 'statistics', 'computer', 'science', 'economics', 'related', 'field', 'master', 'degree', 'plus', 'minimum', 'four', 'years', 'work', 'experience', 'similar', 'position', 'experience', 'data', 'analytic', 'programming', 'languages', 'sql', 'r', 'python', 'experience', 'data', 'visualization', 'tools', 'techniques', 'preferred', 'experience', 'producing', 'delivering', 'results', 'using', 'varied', 'media', 'e', 'multiple', 'ms', 'office', 'formats', 'dashboards', 'visualization', 'tools', 'potentially', 'formats', 'experience', 'employee', 'health', 'management', 'health', 'engagement', 'industry', 'preferred', 'addition', 'possess', 'following', 'additional', 'competencies', 'characteristics', 'strong', 'analytical', 'skills', 'emphasis', 'quantitative', 'analysis', 'descriptive', 'inferential', 'statistics', 'expertise', 'statistical', 'analytical', 'software', 'ability', 'learn', 'prior', 'experience', 'tools', 'sas', 'stata', 'r', 'spss', 'similar', 'statistical', 'software', 'strong', 'consulting', 'communication', 'presentation', 'skills', 'advanced', 'r', 'sql', 'database', 'programming', 'skills', 'experience', 'ms', 'sql', 'server', 'redshift', 'postgres', 'cassandra', 'nosql', 'databases', 'experience', 'working', 'large', 'scale', 'datasets', 'multiple', 'projects', 'simultaneously', 'creative', 'energy', 'self', 'starter', 'works', 'equally', 'well', 'independently', 'collaboratively']\n"
     ]
    },
    {
     "data": {
      "text/html": [
       "<div>\n",
       "<style scoped>\n",
       "    .dataframe tbody tr th:only-of-type {\n",
       "        vertical-align: middle;\n",
       "    }\n",
       "\n",
       "    .dataframe tbody tr th {\n",
       "        vertical-align: top;\n",
       "    }\n",
       "\n",
       "    .dataframe thead th {\n",
       "        text-align: right;\n",
       "    }\n",
       "</style>\n",
       "<table border=\"1\" class=\"dataframe\">\n",
       "  <thead>\n",
       "    <tr style=\"text-align: right;\">\n",
       "      <th></th>\n",
       "      <th>help</th>\n",
       "      <th>note</th>\n",
       "      <th>ability</th>\n",
       "      <th>generations</th>\n",
       "      <th>application</th>\n",
       "      <th>group</th>\n",
       "      <th>we</th>\n",
       "      <th>new</th>\n",
       "      <th>purposes</th>\n",
       "      <th>directed</th>\n",
       "      <th>...</th>\n",
       "      <th>american</th>\n",
       "      <th>manner</th>\n",
       "      <th>conferences</th>\n",
       "      <th>engagement</th>\n",
       "      <th>account</th>\n",
       "      <th>hired</th>\n",
       "      <th>300</th>\n",
       "      <th>authority</th>\n",
       "      <th>doctoral</th>\n",
       "      <th>disclaimer</th>\n",
       "    </tr>\n",
       "  </thead>\n",
       "  <tbody>\n",
       "    <tr>\n",
       "      <th>0</th>\n",
       "      <td>0</td>\n",
       "      <td>0</td>\n",
       "      <td>1</td>\n",
       "      <td>0</td>\n",
       "      <td>0</td>\n",
       "      <td>0</td>\n",
       "      <td>1</td>\n",
       "      <td>1</td>\n",
       "      <td>0</td>\n",
       "      <td>0</td>\n",
       "      <td>...</td>\n",
       "      <td>0</td>\n",
       "      <td>1</td>\n",
       "      <td>0</td>\n",
       "      <td>0</td>\n",
       "      <td>0</td>\n",
       "      <td>0</td>\n",
       "      <td>0</td>\n",
       "      <td>0</td>\n",
       "      <td>0</td>\n",
       "      <td>0</td>\n",
       "    </tr>\n",
       "    <tr>\n",
       "      <th>1</th>\n",
       "      <td>1</td>\n",
       "      <td>1</td>\n",
       "      <td>1</td>\n",
       "      <td>1</td>\n",
       "      <td>1</td>\n",
       "      <td>0</td>\n",
       "      <td>1</td>\n",
       "      <td>1</td>\n",
       "      <td>1</td>\n",
       "      <td>0</td>\n",
       "      <td>...</td>\n",
       "      <td>1</td>\n",
       "      <td>0</td>\n",
       "      <td>1</td>\n",
       "      <td>0</td>\n",
       "      <td>1</td>\n",
       "      <td>1</td>\n",
       "      <td>1</td>\n",
       "      <td>1</td>\n",
       "      <td>1</td>\n",
       "      <td>1</td>\n",
       "    </tr>\n",
       "    <tr>\n",
       "      <th>2</th>\n",
       "      <td>0</td>\n",
       "      <td>0</td>\n",
       "      <td>1</td>\n",
       "      <td>0</td>\n",
       "      <td>0</td>\n",
       "      <td>1</td>\n",
       "      <td>1</td>\n",
       "      <td>1</td>\n",
       "      <td>0</td>\n",
       "      <td>1</td>\n",
       "      <td>...</td>\n",
       "      <td>0</td>\n",
       "      <td>0</td>\n",
       "      <td>0</td>\n",
       "      <td>1</td>\n",
       "      <td>0</td>\n",
       "      <td>0</td>\n",
       "      <td>0</td>\n",
       "      <td>0</td>\n",
       "      <td>0</td>\n",
       "      <td>0</td>\n",
       "    </tr>\n",
       "  </tbody>\n",
       "</table>\n",
       "<p>3 rows × 897 columns</p>\n",
       "</div>"
      ],
      "text/plain": [
       "   help  note  ability  generations  application  group  we  new  purposes  \\\n",
       "0     0     0        1            0            0      0   1    1         0   \n",
       "1     1     1        1            1            1      0   1    1         1   \n",
       "2     0     0        1            0            0      1   1    1         0   \n",
       "\n",
       "   directed  ...  american  manner  conferences  engagement  account  hired  \\\n",
       "0         0  ...         0       1            0           0        0      0   \n",
       "1         0  ...         1       0            1           0        1      1   \n",
       "2         1  ...         0       0            0           1        0      0   \n",
       "\n",
       "   300  authority  doctoral  disclaimer  \n",
       "0    0          0         0           0  \n",
       "1    1          1         1           1  \n",
       "2    0          0         0           0  \n",
       "\n",
       "[3 rows x 897 columns]"
      ]
     },
     "execution_count": 62,
     "metadata": {},
     "output_type": "execute_result"
    }
   ],
   "source": [
    "def vectorize_words(job_lists):\n",
    "    words = set()\n",
    "    for job in job_lists:\n",
    "        words |= set(job)\n",
    "    job_df = []\n",
    "    for job in job_lists:\n",
    "        data_list = []\n",
    "        for word in words:\n",
    "            if word in job:\n",
    "                data_list.append(1)\n",
    "            else:\n",
    "                data_list.append(0)\n",
    "        job_df.append(data_list)\n",
    "    df = pd.DataFrame(job_df, columns=words)\n",
    "    return df\n",
    "\n",
    "words_df = vectorize_words(job_lists)\n",
    "words_df.head()"
   ]
  },
  {
   "cell_type": "markdown",
   "metadata": {
    "colab_type": "text",
    "id": "Ij27L9cPizzB"
   },
   "source": [
    "# 2) Regex + Pandas Practice\n",
    "\n",
    "Load the contents of the following text file into your notebook:\n",
    "<https://raw.githubusercontent.com/CoreyMSchafer/code_snippets/master/Python-Regular-Expressions/data.txt>\n",
    "\n",
    "If you're using Google Colab then you will have to download the raw file from github and either upload to your google drive or upload it to the notebook like we have done with CSVs in the past."
   ]
  },
  {
   "cell_type": "markdown",
   "metadata": {
    "colab_type": "text",
    "id": "F1CALmvAl0pQ"
   },
   "source": [
    "## Make sure your notebook has access to the .txt file"
   ]
  },
  {
   "cell_type": "code",
   "execution_count": 1,
   "metadata": {
    "colab": {
     "base_uri": "https://localhost:8080/",
     "height": 70,
     "resources": {
      "http://localhost:8080/nbextensions/google.colab/files.js": {
       "data": "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",
       "headers": [
        [
         "content-type",
         "application/javascript"
        ]
       ],
       "ok": true,
       "status": 200,
       "status_text": ""
      }
     }
    },
    "colab_type": "code",
    "id": "EdByRNWgjcPx",
    "outputId": "0334cd86-5788-4591-f3e3-41f2feae6792"
   },
   "outputs": [
    {
     "data": {
      "text/html": [
       "\n",
       "     <input type=\"file\" id=\"files-5579fa84-b92b-430d-bcde-2176028f8991\" name=\"files[]\" multiple disabled />\n",
       "     <output id=\"result-5579fa84-b92b-430d-bcde-2176028f8991\">\n",
       "      Upload widget is only available when the cell has been executed in the\n",
       "      current browser session. Please rerun this cell to enable.\n",
       "      </output>\n",
       "      <script src=\"/nbextensions/google.colab/files.js\"></script> "
      ],
      "text/plain": [
       "<IPython.core.display.HTML object>"
      ]
     },
     "metadata": {
      "tags": []
     },
     "output_type": "display_data"
    },
    {
     "name": "stdout",
     "output_type": "stream",
     "text": [
      "Saving data.txt to data.txt\n"
     ]
    }
   ],
   "source": [
    "from google.colab import files\n",
    "uploaded = files.upload()"
   ]
  },
  {
   "cell_type": "markdown",
   "metadata": {
    "colab_type": "text",
    "id": "TAR7mbJsl4hK"
   },
   "source": [
    "## Read in the contents of the file"
   ]
  },
  {
   "cell_type": "code",
   "execution_count": 3,
   "metadata": {
    "colab": {
     "base_uri": "https://localhost:8080/",
     "height": 54
    },
    "colab_type": "code",
    "id": "3zutl-6Dkk0f",
    "outputId": "71dd3d65-4401-4983-ba2b-04128a85ceec"
   },
   "outputs": [
    {
     "data": {
      "text/plain": [
       "\"Dave Martin\\n615-555-7164\\n173 Main St., Springfield RI 55924\\ndavemartin@bogusemail.com\\n\\nCharles Harris\\n800-555-5669\\n969 High St., Atlantis VA 34075\\ncharlesharris@bogusemail.com\\n\\nEric Williams\\n560-555-5153\\n806 1st St., Faketown AK 86847\\nlaurawilliams@bogusemail.com\\n\\nCorey Jefferson\\n900-555-9340\\n826 Elm St., Epicburg NE 10671\\ncoreyjefferson@bogusemail.com\\n\\nJennifer Martin-White\\n714-555-7405\\n212 Cedar St., Sunnydale CT 74983\\njenniferwhite@bogusemail.com\\n\\nErick Davis\\n800-555-6771\\n519 Washington St., Olympus TN 32425\\ntomdavis@bogusemail.com\\n\\nNeil Patterson\\n783-555-4799\\n625 Oak St., Dawnstar IL 61914\\nneilpatterson@bogusemail.com\\n\\nLaura Jefferson\\n516-555-4615\\n890 Main St., Pythonville LA 29947\\nlaurajefferson@bogusemail.com\\n\\nMaria Johnson\\n127-555-1867\\n884 High St., Braavos\\u200e ME 43597\\nmariajohnson@bogusemail.com\\n\\nMichael Arnold\\n608-555-4938\\n249 Elm St., Quahog OR 90938\\nmichaelarnold@bogusemail.com\\n\\nMichael Smith\\n568-555-6051\\n619 Park St., Winterfell VA 99000\\nmichaelsmith@bogusemail.com\\n\\nErik Stuart\\n292-555-1875\\n220 Cedar St., Lakeview NY 87282\\nrobertstuart@bogusemail.com\\n\\nLaura Martin\\n900-555-3205\\n391 High St., Smalltown WY 28362\\nlauramartin@bogusemail.com\\n\\nBarbara Martin\\n614-555-1166\\n121 Hill St., Braavos\\u200e UT 92474\\nbarbaramartin@bogusemail.com\\n\\nLinda Jackson\\n530-555-2676\\n433 Elm St., Westworld TX 61967\\nlindajackson@bogusemail.com\\n\\nEric Miller\\n470-555-2750\\n838 Main St., Balmora MT 56526\\nstevemiller@bogusemail.com\\n\\nDave Arnold\\n800-555-6089\\n732 High St., Valyria KY 97152\\ndavearnold@bogusemail.com\\n\\nJennifer Jacobs\\n880-555-8319\\n217 High St., Old-town IA 82767\\njenniferjacobs@bogusemail.com\\n\\nNeil Wilson\\n777-555-8378\\n191 Main St., Mordor IL 72160\\nneilwilson@bogusemail.com\\n\\nKurt Jackson\\n998-555-7385\\n607 Washington St., Blackwater NH 97183\\nkurtjackson@bogusemail.com\\n\\nMary Jacobs\\n800-555-7100\\n478 Oak St., Bedrock IA 58176\\nmaryjacobs@bogusemail.com\\n\\nMichael White\\n903-555-8277\\n906 Elm St., Mordor TX 89212\\nmichaelwhite@bogusemail.com\\n\\nJennifer Jenkins\\n196-555-5674\\n949 Main St., Smalltown SC 96962\\njenniferjenkins@bogusemail.com\\n\\nSam Wright\\n900-555-5118\\n835 Pearl St., Smalltown ND 77737\\nsamwright@bogusemail.com\\n\\nJohn Davis\\n905-555-1630\\n451 Lake St., Bedrock GA 34615\\njohndavis@bogusemail.com\\n\\nEric Davis\\n203-555-3475\\n419 Lake St., Balmora OR 30826\\nneildavis@bogusemail.com\\n\\nLaura Jackson\\n884-555-8444\\n443 Maple St., Quahog MS 29348\\nlaurajackson@bogusemail.com\\n\\nJohn Williams\\n904-555-8559\\n756 Hill St., Valyria KY 94854\\njohnwilliams@bogusemail.com\\n\\nMichael Martin\\n889-555-7393\\n216 High St., Olympus NV 21888\\nmichaelmartin@bogusemail.com\\n\\nMaggie Brown\\n195-555-2405\\n806 Lake St., Lakeview MD 59348\\nmaggiebrown@bogusemail.com\\n\\nErik Wilson\\n321-555-9053\\n354 Hill St., Mordor FL 74122\\nkurtwilson@bogusemail.com\\n\\nElizabeth Arnold\\n133-555-1711\\n805 Maple St., Winterfell NV 99431\\nelizabetharnold@bogusemail.com\\n\\nJane Martin\\n900-555-5428\\n418 Park St., Metropolis ID 16576\\njanemartin@bogusemail.com\\n\\nTravis Johnson\\n760-555-7147\\n749 Washington St., Braavos\\u200e SD 25668\\ntravisjohnson@bogusemail.com\\n\\nLaura Jefferson\\n391-555-6621\\n122 High St., Metropolis ME 29540\\nlaurajefferson@bogusemail.com\\n\\nTom Williams\\n932-555-7724\\n610 High St., Old-town FL 60758\\ntomwilliams@bogusemail.com\\n\\nJennifer Taylor\\n609-555-7908\\n332 Main St., Pythonville OH 78172\\njennifertaylor@bogusemail.com\\n\\nErick Wright\\n800-555-8810\\n858 Hill St., Blackwater NC 79714\\njenniferwright@bogusemail.com\\n\\nSteve Doe\\n149-555-7657\\n441 Elm St., Atlantis MS 87195\\nstevedoe@bogusemail.com\\n\\nKurt Davis\\n130-555-9709\\n404 Oak St., Atlantis ND 85386\\nkurtdavis@bogusemail.com\\n\\nCorey Harris\\n143-555-9295\\n286 Pearl St., Vice City TX 57112\\ncoreyharris@bogusemail.com\\n\\nNicole Taylor\\n903-555-9878\\n465 Hill St., Old-town LA 64102\\nnicoletaylor@bogusemail.com\\n\\nElizabeth Davis\\n574-555-3194\\n151 Lake St., Eerie SD 17880\\nelizabethdavis@bogusemail.com\\n\\nMaggie Jenkins\\n496-555-7533\\n504 Lake St., Gotham PA 46692\\nmaggiejenkins@bogusemail.com\\n\\nLinda Davis\\n210-555-3757\\n201 Pine St., Vice City AR 78455\\nlindadavis@bogusemail.com\\n\\nDave Moore\\n900-555-9598\\n251 Pine St., Old-town OK 29087\\ndavemoore@bogusemail.com\\n\\nLinda Jenkins\\n866-555-9844\\n117 High St., Bedrock NE 11899\\nlindajenkins@bogusemail.com\\n\\nEric White\\n669-555-7159\\n650 Oak St., Smalltown TN 43281\\nsamwhite@bogusemail.com\\n\\nLaura Robinson\\n152-555-7417\\n377 Pine St., Valyria NC 78036\\nlaurarobinson@bogusemail.com\\n\\nCharles Patterson\\n893-555-9832\\n416 Pearl St., Valyria AK 62260\\ncharlespatterson@bogusemail.com\\n\\nJoe Jackson\\n217-555-7123\\n683 Cedar St., South Park KS 66724\\njoejackson@bogusemail.com\\n\\nMichael Johnson\\n786-555-6544\\n288 Hill St., Smalltown AZ 18586\\nmichaeljohnson@bogusemail.com\\n\\nCorey Miller\\n780-555-2574\\n286 High St., Springfield IA 16272\\ncoreymiller@bogusemail.com\\n\\nJames Moore\\n926-555-8735\\n278 Main St., Gotham KY 89569\\njamesmoore@bogusemail.com\\n\\nJennifer Stuart\\n895-555-3539\\n766 Hill St., King's Landing GA 54999\\njenniferstuart@bogusemail.com\\n\\nCharles Martin\\n874-555-3949\\n775 High St., Faketown PA 89260\\ncharlesmartin@bogusemail.com\\n\\nEric Wilks\\n800-555-2420\\n885 Main St., Blackwater OH 61275\\njoewilks@bogusemail.com\\n\\nElizabeth Arnold\\n936-555-6340\\n528 Hill St., Atlantis NH 88289\\nelizabetharnold@bogusemail.com\\n\\nJohn Miller\\n372-555-9809\\n117 Cedar St., Thundera NM 75205\\njohnmiller@bogusemail.com\\n\\nCorey Jackson\\n890-555-5618\\n115 Oak St., Gotham UT 36433\\ncoreyjackson@bogusemail.com\\n\\nSam Thomas\\n670-555-3005\\n743 Lake St., Springfield MS 25473\\nsamthomas@bogusemail.com\\n\\nPatricia Thomas\\n509-555-5997\\n381 Hill St., Blackwater CT 30958\\npatriciathomas@bogusemail.com\\n\\nJennifer Davis\\n721-555-5632\\n125 Main St., Smalltown MT 62155\\njenniferdavis@bogusemail.com\\n\\nPatricia Brown\\n900-555-3567\\n292 Hill St., Gotham WV 57680\\npatriciabrown@bogusemail.com\\n\\nBarbara Williams\\n147-555-6830\\n514 Park St., Balmora NV 55462\\nbarbarawilliams@bogusemail.com\\n\\nJames Taylor\\n582-555-3426\\n776 Hill St., Dawnstar MA 51312\\njamestaylor@bogusemail.com\\n\\nEric Harris\\n400-555-1706\\n421 Elm St., Smalltown NV 72025\\nbarbaraharris@bogusemail.com\\n\\nTravis Anderson\\n525-555-1793\\n937 Cedar St., Thundera WA 78862\\ntravisanderson@bogusemail.com\\n\\nSam Robinson\\n317-555-6700\\n417 Pine St., Lakeview MD 13147\\nsamrobinson@bogusemail.com\\n\\nSteve Robinson\\n974-555-8301\\n478 Park St., Springfield NM 92369\\nsteverobinson@bogusemail.com\\n\\nMary Wilson\\n800-555-3216\\n708 Maple St., Braavos\\u200e UT 29551\\nmarywilson@bogusemail.com\\n\\nSam Wilson\\n746-555-4094\\n557 Pearl St., Westworld KS 23225\\nsamwilson@bogusemail.com\\n\\nCharles Jones\\n922-555-1773\\n855 Hill St., Olympus HI 81427\\ncharlesjones@bogusemail.com\\n\\nLaura Brown\\n711-555-4427\\n980 Maple St., Smalltown MO 96421\\nlaurabrown@bogusemail.com\\n\\nTom Harris\\n355-555-1872\\n676 Hill St., Blackwater AR 96698\\ntomharris@bogusemail.com\\n\\nPatricia Taylor\\n852-555-6521\\n588 Pine St., Olympus FL 98412\\npatriciataylor@bogusemail.com\\n\\nBarbara Williams\\n691-555-5773\\n351 Elm St., Sunnydale GA 26245\\nbarbarawilliams@bogusemail.com\\n\\nMaggie Johnson\\n332-555-5441\\n948 Cedar St., Quahog DE 56449\\nmaggiejohnson@bogusemail.com\\n\\nKurt Miller\\n900-555-7755\\n381 Hill St., Quahog AL 97503\\nkurtmiller@bogusemail.com\\n\\nNeil Stuart\\n379-555-3685\\n496 Cedar St., Sunnydale RI 49113\\nneilstuart@bogusemail.com\\n\\nLinda Patterson\\n127-555-9682\\n736 Cedar St., Lakeview KY 47472\\nlindapatterson@bogusemail.com\\n\\nCharles Davis\\n789-555-7032\\n678 Lake St., Mordor MN 11845\\ncharlesdavis@bogusemail.com\\n\\nJennifer Jefferson\\n783-555-5135\\n289 Park St., Sunnydale WA 74526\\njenniferjefferson@bogusemail.com\\n\\nErick Taylor\\n315-555-6507\\n245 Washington St., Bedrock IL 26941\\ncoreytaylor@bogusemail.com\\n\\nRobert Wilks\\n481-555-5835\\n573 Elm St., Sunnydale IL 47182\\nrobertwilks@bogusemail.com\\n\\nTravis Jackson\\n365-555-8287\\n851 Lake St., Metropolis PA 22772\\ntravisjackson@bogusemail.com\\n\\nTravis Jackson\\n911-555-7535\\n489 Oak St., Atlantis HI 73725\\ntravisjackson@bogusemail.com\\n\\nLaura Wilks\\n681-555-2460\\n371 Pearl St., Smalltown SC 47466\\nlaurawilks@bogusemail.com\\n\\nNeil Arnold\\n274-555-9800\\n504 Oak St., Faketown PA 73860\\nneilarnold@bogusemail.com\\n\\nLinda Johnson\\n800-555-1372\\n667 High St., Balmora IN 82473\\nlindajohnson@bogusemail.com\\n\\nJennifer Wilson\\n300-555-7821\\n266 Pine St., Westworld DC 58720\\njenniferwilson@bogusemail.com\\n\\nNicole White\\n133-555-3889\\n276 High St., Braavos\\u200e IL 57764\\nnicolewhite@bogusemail.com\\n\\nMaria Arnold\\n705-555-6863\\n491 Elm St., Metropolis PA 31836\\nmariaarnold@bogusemail.com\\n\\nJennifer Davis\\n215-555-9449\\n859 Cedar St., Old-town MT 31169\\njenniferdavis@bogusemail.com\\n\\nMary Patterson\\n988-555-6112\\n956 Park St., Valyria CT 81541\\nmarypatterson@bogusemail.com\\n\\nJane Stuart\\n623-555-3006\\n983 Oak St., Old-town RI 15445\\njanestuart@bogusemail.com\\n\\nRobert Davis\\n192-555-4977\\n789 Maple St., Mordor IN 22215\\nrobertdavis@bogusemail.com\\n\\nJames Taylor\\n178-555-4899\\n439 Hill St., Olympus NV 39308\\njamestaylor@bogusemail.com\\n\\nEric Stuart\\n952-555-3089\\n777 High St., King's Landing AZ 16547\\njohnstuart@bogusemail.com\\n\\nCharles Miller\\n900-555-6426\\n207 Washington St., Blackwater MA 24886\\ncharlesmiller@bogusemail.com\\n\""
      ]
     },
     "execution_count": 3,
     "metadata": {
      "tags": []
     },
     "output_type": "execute_result"
    }
   ],
   "source": [
    "with open('data.txt', 'r', encoding='utf-8') as f:\n",
    "  contents = f.read()\n",
    "  \n",
    "contents"
   ]
  },
  {
   "cell_type": "markdown",
   "metadata": {
    "colab_type": "text",
    "id": "Oxxpx8l0k-wP"
   },
   "source": [
    "## Turn the \"unstructured\" .txt file into a \"structured\" dataframe\n",
    "Once you have read in the file's contents your task is to get this unstructured text data into a dataframe with the following headers:\n",
    "\n",
    "- First Name\n",
    "- Last Name\n",
    "- Email\n",
    "- Phone Number\n",
    "- Street Address\n",
    "- City\n",
    "- State\n",
    "- Zipcode"
   ]
  },
  {
   "cell_type": "code",
   "execution_count": null,
   "metadata": {
    "colab": {},
    "colab_type": "code",
    "id": "9Xqo-GPdk-OM"
   },
   "outputs": [],
   "source": [
    "##### Your Code Here #####"
   ]
  },
  {
   "cell_type": "markdown",
   "metadata": {
    "colab_type": "text",
    "id": "udWbMfZdimhT"
   },
   "source": [
    "# 3) Web Scraping + Regex + Pandas\n",
    "\n",
    "Scrape the unordered list of information about Ohio University President's salaries from this article: \n",
    "[Ohio Private University President's Salaries](https://www.cleveland.com/metro/2017/12/case_western_reserve_university_president_barbara_snyders_base_salary_and_bonus_pay_tops_among_private_colleges_in_ohio.html)\n",
    "\n",
    "Get the data from this webpage into a dataframe with the following headers:\n",
    "\n",
    "- First Name\n",
    "- Last Name\n",
    "- School\n",
    "- Salary\n",
    "\n",
    "Salary information should be stored as an integer and not have \"$\" or commas \",\"\n"
   ]
  },
  {
   "cell_type": "code",
   "execution_count": null,
   "metadata": {
    "colab": {},
    "colab_type": "code",
    "id": "cRq2bzEfjdLY"
   },
   "outputs": [],
   "source": [
    "##### Your Code Here #####"
   ]
  },
  {
   "cell_type": "markdown",
   "metadata": {
    "colab_type": "text",
    "id": "1dCb1q8XphcP"
   },
   "source": [
    "# 4) Stretch Goals\n",
    "\n",
    "- Write a web scraper that can scrape \"Data Scientist\" job listings from indeed.com.\n",
    "- Practice your regex skills: <https://regexone.com/>\n",
    "- Look ahead to some of the topics from later this week:\n",
    " - Tokenization\n",
    " - Stemming\n",
    " - Lemmatization\n",
    " - Chunking\n",
    " - Part of Speech Tagging\n",
    " - Named Entity Recognition\n",
    " - Document Classification\n",
    " "
   ]
  }
 ],
 "metadata": {
  "colab": {
   "collapsed_sections": [],
   "name": "LS_DS_421_Text_Data_Assignment.ipynb",
   "provenance": [],
   "version": "0.3.2"
  },
  "kernelspec": {
   "display_name": "Python 3",
   "language": "python",
   "name": "python3"
  },
  "language_info": {
   "codemirror_mode": {
    "name": "ipython",
    "version": 3
   },
   "file_extension": ".py",
   "mimetype": "text/x-python",
   "name": "python",
   "nbconvert_exporter": "python",
   "pygments_lexer": "ipython3",
   "version": "3.6.8"
  }
 },
 "nbformat": 4,
 "nbformat_minor": 2
}
